{
 "cells": [
  {
   "cell_type": "code",
   "execution_count": 1,
   "metadata": {
    "collapsed": false
   },
   "outputs": [],
   "source": [
    "import graphviz\n",
    "import pydot\n",
    "import pywrapfst as pfst\n",
    "from pywrapfst import compose\n",
    "# import fst\n",
    "import nltk\n",
    "import re\n",
    "import os\n",
    "from fst_funcs import analyse_state, get_lex, get_lang, get_rm_dupes, get_rm_blanks, speech_to_text, add_blank_loops, create_frame_acceptor\n",
    "import numpy as np\n",
    "import csv\n",
    "import editdistance\n",
    "from multiprocessing.dummy import Pool as ThreadPool \n",
    "\n",
    "%load_ext line_profiler\n",
    "%load_ext memory_profiler"
   ]
  },
  {
   "cell_type": "code",
   "execution_count": 2,
   "metadata": {
    "collapsed": false
   },
   "outputs": [
    {
     "data": {
      "text/plain": [
       "['../lang_model/3-gram-1',\n",
       " '../lang_model/3-gram-3',\n",
       " '../lang_model/3-gram-0',\n",
       " '../lang_model/3-gram-2']"
      ]
     },
     "execution_count": 2,
     "metadata": {},
     "output_type": "execute_result"
    }
   ],
   "source": [
    "LM_expr = \"^(.*)\\.pru$\"\n",
    "folder_name = \"../lang_model\"\n",
    "file_list = [os.path.join(folder_name, fname) for fname in os.listdir(folder_name)]\n",
    "pruned_models = [re.match(LM_expr, filename).group(1) for filename in file_list if re.match(LM_expr, filename)]\n",
    "pruned_models"
   ]
  },
  {
   "cell_type": "code",
   "execution_count": 3,
   "metadata": {
    "collapsed": false
   },
   "outputs": [],
   "source": [
    "small_lang_model_name = folder_name+\"/3-gram-3.pru\"\n",
    "big_lang_model_name = folder_name+\"/3-gram-1.pru\""
   ]
  },
  {
   "cell_type": "code",
   "execution_count": 27,
   "metadata": {
    "collapsed": false
   },
   "outputs": [],
   "source": [
    "st_w_blank = pfst.SymbolTable().read_text(\"phoneme-symb-table-with-blank.txt\")\n",
    "st_no_blank = pfst.SymbolTable().read_text(\"phoneme-symb-table.txt\")"
   ]
  },
  {
   "cell_type": "code",
   "execution_count": 4,
   "metadata": {
    "collapsed": false
   },
   "outputs": [],
   "source": [
    "big_fst = pfst.Fst.read(big_lang_model_name)\n",
    "small_fst = pfst.Fst.read(small_lang_model_name)"
   ]
  },
  {
   "cell_type": "code",
   "execution_count": 5,
   "metadata": {
    "collapsed": false
   },
   "outputs": [
    {
     "data": {
      "text/plain": [
       "1"
      ]
     },
     "execution_count": 5,
     "metadata": {},
     "output_type": "execute_result"
    }
   ],
   "source": [
    "big_fst.start()"
   ]
  },
  {
   "cell_type": "code",
   "execution_count": 47,
   "metadata": {
    "collapsed": false
   },
   "outputs": [
    {
     "ename": "KeyError",
     "evalue": "'gallbladders'",
     "output_type": "error",
     "traceback": [
      "\u001b[0;31m---------------------------------------------------------------------------\u001b[0m",
      "\u001b[0;31mKeyError\u001b[0m                                  Traceback (most recent call last)",
      "\u001b[0;32m<ipython-input-47-c140925ab918>\u001b[0m in \u001b[0;36m<module>\u001b[0;34m()\u001b[0m\n\u001b[0;32m----> 1\u001b[0;31m \u001b[0mbig_fst\u001b[0m\u001b[0;34m.\u001b[0m\u001b[0minput_symbols\u001b[0m\u001b[0;34m(\u001b[0m\u001b[0;34m)\u001b[0m\u001b[0;34m.\u001b[0m\u001b[0mfind\u001b[0m\u001b[0;34m(\u001b[0m\u001b[0;34m\"gallbladders\"\u001b[0m\u001b[0;34m)\u001b[0m\u001b[0;34m\u001b[0m\u001b[0m\n\u001b[0m",
      "\u001b[0;32mpywrapfst.pyx\u001b[0m in \u001b[0;36mpywrapfst._SymbolTable.find (pywrapfst.cc:9123)\u001b[0;34m()\u001b[0m\n",
      "\u001b[0;31mKeyError\u001b[0m: 'gallbladders'"
     ]
    }
   ],
   "source": [
    "big_fst.input_symbols().find(\"neoplatonists\")"
   ]
  },
  {
   "cell_type": "code",
   "execution_count": 25,
   "metadata": {
    "collapsed": false
   },
   "outputs": [
    {
     "name": "stdout",
     "output_type": "stream",
     "text": [
      "1 arcs from 36 to 0, e.g: <eps>\n",
      "1 arcs from 36 to 2, e.g: of\n"
     ]
    }
   ],
   "source": [
    "analyse_state(small_fst, 36)"
   ]
  },
  {
   "cell_type": "code",
   "execution_count": 29,
   "metadata": {
    "collapsed": false
   },
   "outputs": [
    {
     "data": {
      "text/plain": [
       "[[u'TH', u'AW1', u'Z', u'AH0', u'N', u'D', u'Z'],\n",
       " [u'TH', u'AW1', u'Z', u'AH0', u'N', u'Z']]"
      ]
     },
     "execution_count": 29,
     "metadata": {},
     "output_type": "execute_result"
    }
   ],
   "source": [
    "nltk.corpus.cmudict.dict()[\"thousands\"]"
   ]
  },
  {
   "cell_type": "code",
   "execution_count": 31,
   "metadata": {
    "collapsed": false
   },
   "outputs": [
    {
     "ename": "FstOpError",
     "evalue": "Operation failed",
     "output_type": "error",
     "traceback": [
      "\u001b[0;31m---------------------------------------------------------------------------\u001b[0m",
      "\u001b[0;31mFstOpError\u001b[0m                                Traceback (most recent call last)",
      "\u001b[0;32m<ipython-input-31-8b7c4b1ed454>\u001b[0m in \u001b[0;36m<module>\u001b[0;34m()\u001b[0m\n\u001b[1;32m      1\u001b[0m \u001b[0mtest\u001b[0m \u001b[0;34m=\u001b[0m \u001b[0mcreate_frame_acceptor\u001b[0m\u001b[0;34m(\u001b[0m\u001b[0;34m\"TH AW Z AH N D Z\"\u001b[0m\u001b[0;34m,\u001b[0m \u001b[0mst_no_blank\u001b[0m\u001b[0;34m)\u001b[0m\u001b[0;34m\u001b[0m\u001b[0m\n\u001b[0;32m----> 2\u001b[0;31m \u001b[0mpfst\u001b[0m\u001b[0;34m.\u001b[0m\u001b[0mcompose\u001b[0m\u001b[0;34m(\u001b[0m\u001b[0mtest\u001b[0m\u001b[0;34m,\u001b[0m \u001b[0msmall_fst\u001b[0m\u001b[0;34m)\u001b[0m\u001b[0;34m\u001b[0m\u001b[0m\n\u001b[0m",
      "\u001b[0;32mpywrapfst.pyx\u001b[0m in \u001b[0;36mpywrapfst.compose (pywrapfst.cc:35454)\u001b[0;34m()\u001b[0m\n",
      "\u001b[0;32mpywrapfst.pyx\u001b[0m in \u001b[0;36mpywrapfst.compose (pywrapfst.cc:35313)\u001b[0;34m()\u001b[0m\n",
      "\u001b[0;32mpywrapfst.pyx\u001b[0m in \u001b[0;36mpywrapfst._init_MutableFst (pywrapfst.cc:28269)\u001b[0;34m()\u001b[0m\n",
      "\u001b[0;31mFstOpError\u001b[0m: Operation failed"
     ]
    }
   ],
   "source": [
    "test = create_frame_acceptor(\"TH AW Z AH N D Z\", st_no_blank)\n",
    "pfst.compose(test, small_fst)"
   ]
  },
  {
   "cell_type": "code",
   "execution_count": null,
   "metadata": {
    "collapsed": true
   },
   "outputs": [],
   "source": [
    "def traverse_loops_inner(small_fst, big_fst, quotient_fst, state):\n",
    "    for arc in fst.arcs(state):\n",
    "        if arc.nextstate == big_fst.start():\n",
    "            continue\n",
    "        add_to_quotient(small_fst, big_fst, quotient_fst, state, arc, arc.nextstate)\n",
    "        traverse_loops_inner(small_fst, big_fst, quotient_fst, arc.nextstate)\n",
    "        \n",
    "def traverse_loops(fst, f):\n",
    "    quotient_fst = pfst.Fst()\n",
    "    s = quotient_fst.add_state()\n",
    "    quotient_fst.set_start(s)\n",
    "    quotient_fst.set_final(s)    \n",
    "        \n",
    "        \n",
    "def add_to_quotient(small_fst, big_fst, quotient_fst, state, arc, nextstate):\n",
    "    \n",
    "    "
   ]
  },
  {
   "cell_type": "code",
   "execution_count": null,
   "metadata": {
    "collapsed": true
   },
   "outputs": [],
   "source": [
    "traverse_loops(big_fst, big_fst.start())"
   ]
  },
  {
   "cell_type": "code",
   "execution_count": null,
   "metadata": {
    "collapsed": true
   },
   "outputs": [],
   "source": []
  }
 ],
 "metadata": {
  "anaconda-cloud": {},
  "kernelspec": {
   "display_name": "Python [default]",
   "language": "python",
   "name": "python2"
  },
  "language_info": {
   "codemirror_mode": {
    "name": "ipython",
    "version": 2
   },
   "file_extension": ".py",
   "mimetype": "text/x-python",
   "name": "python",
   "nbconvert_exporter": "python",
   "pygments_lexer": "ipython2",
   "version": "2.7.12"
  }
 },
 "nbformat": 4,
 "nbformat_minor": 2
}
