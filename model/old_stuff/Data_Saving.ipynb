{
 "cells": [
  {
   "cell_type": "code",
   "execution_count": 1,
   "metadata": {},
   "outputs": [
    {
     "name": "stderr",
     "output_type": "stream",
     "text": [
      "Using TensorFlow backend.\n"
     ]
    }
   ],
   "source": [
    "# import tensorflow as tf\n",
    "# sess = tf.Session()\n",
    "import keras\n",
    "from keras import backend as K\n",
    "# K.set_session(sess)\n",
    "import h5py\n",
    "\n",
    "from keras.models import Model\n",
    "from keras.layers import Dense, LSTM, Input, Embedding, GRU, Masking, Dropout, Lambda, Flatten, concatenate, Conv1D, Activation\n",
    "from keras.layers.normalization import BatchNormalization\n",
    "from keras.optimizers import SGD, Adam\n",
    "from keras.preprocessing.sequence import pad_sequences\n",
    "\n",
    "from IPython.display import SVG\n",
    "from keras.utils.vis_utils import model_to_dot\n",
    "import numpy as np\n",
    "import matplotlib.pyplot as plt\n",
    "%matplotlib inline\n",
    "\n",
    "# import pandas \n",
    "\n",
    "from process_data import *\n",
    "import os\n",
    "\n"
   ]
  },
  {
   "cell_type": "code",
   "execution_count": null,
   "metadata": {},
   "outputs": [
    {
     "name": "stdout",
     "output_type": "stream",
     "text": [
      "[name: \"/cpu:0\"\n",
      "device_type: \"CPU\"\n",
      "memory_limit: 268435456\n",
      "locality {\n",
      "}\n",
      "incarnation: 13073976079758987607\n",
      ", name: \"/gpu:0\"\n",
      "device_type: \"GPU\"\n",
      "memory_limit: 320208896\n",
      "locality {\n",
      "  bus_id: 1\n",
      "}\n",
      "incarnation: 10697283353931098085\n",
      "physical_device_desc: \"device: 0, name: Tesla K80, pci bus id: 0000:00:1e.0\"\n",
      "]\n"
     ]
    }
   ],
   "source": [
    "from tensorflow.python.client import device_lib\n",
    "print(device_lib.list_local_devices())"
   ]
  },
  {
   "cell_type": "code",
   "execution_count": null,
   "metadata": {},
   "outputs": [
    {
     "name": "stdout",
     "output_type": "stream",
     "text": [
      "0\n",
      "50\n",
      "100\n",
      "150\n",
      "200\n",
      "250\n",
      "300\n",
      "350\n",
      "400\n",
      "450\n",
      "500\n",
      "550\n",
      "600\n",
      "650\n",
      "700\n",
      "750\n",
      "800\n"
     ]
    }
   ],
   "source": [
    "batch_folder_name = \"converted_data_libri\"\n",
    "reg_expr = r\"^(libri.*)\\.id\"\n",
    "stem_names = get_names(batch_folder_name, reg_expr)\n",
    "abs_names = [os.path.join(batch_folder_name, x) for x in stem_names]\n",
    "sample_mfes = []\n",
    "sample_phonemes = []\n",
    "sample_ids = []\n",
    "sample_letters = []\n",
    "for (i, batch_name) in enumerate(abs_names):\n",
    "    (ids_batch, mfe_batch, phoneme_batch, letter_batch) = load_batch(batch_name)\n",
    "    sample_mfes.extend(mfe_batch)\n",
    "    sample_phonemes.extend(phoneme_batch)\n",
    "    sample_ids.extend(ids_batch)\n",
    "    sample_letters.extend(letter_batch)\n",
    "    if i % 50 ==0:\n",
    "        print i\n",
    "print \"Done\""
   ]
  },
  {
   "cell_type": "code",
   "execution_count": 6,
   "metadata": {},
   "outputs": [
    {
     "name": "stdout",
     "output_type": "stream",
     "text": [
      "rf_size = 90 ms\n"
     ]
    }
   ],
   "source": [
    "\n",
    "stack_size = 1\n",
    "n_hidden_layers = 1\n",
    "n_filters = 32\n",
    "kernel_size = 3\n",
    "residuals = True\n",
    "dilation_reset = 4\n",
    "rf_size  = 3**(min(dilation_reset-1, n_hidden_layers+1))\n",
    "print \"rf_size =\", rf_size*10, \"ms\"\n",
    "max_mfe_len = 1800\n",
    "max_char_len = 300\n",
    "max_phon_len = 250\n",
    "n_energies = 40 * stack_size\n",
    "n_phonemes = 40+1\n",
    "\n",
    "\n",
    "blank_idx = n_phonemes - 1"
   ]
  },
  {
   "cell_type": "code",
   "execution_count": 7,
   "metadata": {},
   "outputs": [
    {
     "data": {
      "image/png": "[encoded data removed]",
      "text/plain": [
       "<matplotlib.figure.Figure at 0x7fb2d8555310>"
      ]
     },
     "metadata": {},
     "output_type": "display_data"
    }
   ],
   "source": [
    "plt.hist([len(letter_list) for letter_list in sample_letters]);"
   ]
  },
  {
   "cell_type": "code",
   "execution_count": null,
   "metadata": {},
   "outputs": [],
   "source": [
    "short_indices = [i for (i,mfe) in enumerate(sample_mfes) if mfe.shape[0] <= max_mfe_len and len(sample_letters[i])<=max_char_len and len(sample_phonemes[i])<=max_phon_len]\n",
    "short_mfes = [sample_mfes[i] for i in short_indices]\n",
    "short_phonemes =[sample_phonemes[i] for i in short_indices]\n",
    "short_letters = [sample_letters[i] for i in short_indices]\n",
    "short_ids = [sample_ids[i] for i in short_indices]\n",
    "len(short_letters)\n"
   ]
  },
  {
   "cell_type": "code",
   "execution_count": 13,
   "metadata": {},
   "outputs": [
    {
     "data": {
      "text/plain": [
       "65040"
      ]
     },
     "execution_count": 13,
     "metadata": {},
     "output_type": "execute_result"
    }
   ],
   "source": [
    "K = (len(short_indices) / 10) * 10\n",
    "short_letters_five = short_letters[:K]\n",
    "short_mfes_five = short_mfes[:K]\n",
    "short_indices_five = short_indices[:K]\n",
    "short_ids_five = short_ids[:K]\n",
    "short_phonemes_five = short_phonemes[:K]\n",
    "len(short_letters_five)"
   ]
  },
  {
   "cell_type": "code",
   "execution_count": null,
   "metadata": {
    "collapsed": true
   },
   "outputs": [],
   "source": [
    "alphabet = dict(zip(\"abcdefghijklmnopqrstuvwxyz \", range(27)))\n"
   ]
  },
  {
   "cell_type": "code",
   "execution_count": 44,
   "metadata": {},
   "outputs": [
    {
     "name": "stdout",
     "output_type": "stream",
     "text": [
      "Starting chunk 0  with start and end points: 0 ,  13008\n",
      "Creating padded labels...\n",
      "Creating padded mfes...\n",
      "Saving everything..\n",
      "Done with this chunk!\n",
      "Starting chunk 1  with start and end points: 13008 ,  26016\n",
      "Creating padded labels...\n",
      "Creating padded mfes...\n",
      "Saving everything..\n",
      "Done with this chunk!\n",
      "Starting chunk 2  with start and end points: 26016 ,  39024\n",
      "Creating padded labels...\n",
      "Creating padded mfes...\n",
      "Saving everything..\n",
      "Done with this chunk!\n",
      "Starting chunk 3  with start and end points: 39024 ,  52032\n",
      "Creating padded labels...\n",
      "Creating padded mfes...\n",
      "Saving everything..\n",
      "Done with this chunk!\n",
      "Starting chunk 4  with start and end points: 52032 ,  65040\n",
      "Creating padded labels...\n",
      "Creating padded mfes...\n",
      "Saving everything..\n",
      "Done with this chunk!\n"
     ]
    }
   ],
   "source": [
    "\n",
    "from keras.preprocessing.sequence import pad_sequences\n",
    "\n",
    "\n",
    "\n",
    "# del sample_mfes, sample_phonemes\n",
    "n = len(short_letters_five)\n",
    "\n",
    "chunks = []\n",
    "\n",
    "# Each chunk contains a tuple, where each tuple contains a list of one-fifth the size of the whole data\n",
    "for i in range(5):\n",
    "    \n",
    "    \n",
    "    start = i*n/5\n",
    "    end = (i+1)*n/5\n",
    "    print \"Starting chunk\", i, \" with start and end points:\", start, \",\", end\n",
    "    mfes_chunk = short_mfes_five[start:end]\n",
    "    letters_chunk = short_letters_five[start:end]\n",
    "    ids_chunk = short_ids_five[start:end]\n",
    "    chunk = {\"mfes\":mfes_chunk, \n",
    "             \"letters\":letters_chunk, \n",
    "            \"ids\":ids_chunk,\n",
    "            \"input_lengths\": np.asarray([mfe.shape[0] for mfe in mfes_chunk]),\n",
    "            \"label_lengths\": np.asarray([len(sentence) for sentence in letters_chunk]),\n",
    "            \"coded_letters\": [[alphabet[letter] for letter in sentence] for sentence in letters_chunk]}\n",
    "    chunks.append(chunk)\n",
    "    \n",
    "    # Should I pad at the beginning or the end? Probably the end\n",
    "    # Pad with value 69 because the phonemes are indexed 0 to 68\n",
    "    print \"Creating padded labels...\"\n",
    "    y_chunk = keras.preprocessing.sequence.pad_sequences(chunk[\"coded_letters\"], maxlen=max_phrase_len, dtype='int32',\n",
    "        padding='post', truncating='post', value=-1)\n",
    "    print \"Creating padded mfes...\"\n",
    "    X_chunk = keras.preprocessing.sequence.pad_sequences(chunk[\"mfes\"], maxlen=max_mfe_len, dtype='float32',\n",
    "    padding='post', truncating='post', value=0.)\n",
    "    print \"Saving everything..\"\n",
    "    np.savez('Libri_data_lib/data_padded_'+str(i), ids_chunk, X_chunk, chunk[\"input_lengths\"], y_chunk, chunk[\"label_lengths\"])\n",
    "    print \"Done with this chunk!\""
   ]
  },
  {
   "cell_type": "code",
   "execution_count": 36,
   "metadata": {},
   "outputs": [
    {
     "data": {
      "text/plain": [
       "'not compatible with individuality i am of course not undertaking here to discuss the merits of socialism my purpose is only to point out that those who are hostile to socialism must cherish liberty'"
      ]
     },
     "execution_count": 36,
     "metadata": {},
     "output_type": "execute_result"
    }
   ],
   "source": [
    "\"\".join(chunks[0][\"letters\"][0])"
   ]
  },
  {
   "cell_type": "code",
   "execution_count": 38,
   "metadata": {},
   "outputs": [
    {
     "name": "stdout",
     "output_type": "stream",
     "text": [
      "[13, 14, 19, 26, 2, 14, 12, 15, 0, 19, 8, 1, 11, 4, 26, 22, 8, 19, 7, 26, 8, 13, 3, 8, 21, 8, 3, 20, 0, 11, 8, 19, 24, 26, 8, 26, 0, 12, 26, 14, 5, 26, 2, 14, 20, 17, 18, 4, 26, 13, 14, 19, 26, 20, 13, 3, 4, 17, 19, 0, 10, 8, 13, 6, 26, 7, 4, 17, 4, 26, 19, 14, 26, 3, 8, 18, 2, 20, 18, 18, 26, 19, 7, 4, 26, 12, 4, 17, 8, 19, 18, 26, 14, 5, 26, 18, 14, 2, 8, 0, 11, 8, 18, 12, 26, 12, 24, 26, 15, 20, 17, 15, 14, 18, 4, 26, 8, 18, 26, 14, 13, 11, 24, 26, 19, 14, 26, 15, 14, 8, 13, 19, 26, 14, 20, 19, 26, 19, 7, 0, 19, 26, 19, 7, 14, 18, 4, 26, 22, 7, 14, 26, 0, 17, 4, 26, 7, 14, 18, 19, 8, 11, 4, 26, 19, 14, 26, 18, 14, 2, 8, 0, 11, 8, 18, 12, 26, 12, 20, 18, 19, 26, 2, 7, 4, 17, 8, 18, 7, 26, 11, 8, 1, 4, 17, 19, 24]\n"
     ]
    }
   ],
   "source": [
    "print chunks[0][\"coded letters\"][0]"
   ]
  }
 ],
 "metadata": {
  "kernelspec": {
   "display_name": "Python 2",
   "language": "python",
   "name": "python2"
  },
  "language_info": {
   "codemirror_mode": {
    "name": "ipython",
    "version": 2
   },
   "file_extension": ".py",
   "mimetype": "text/x-python",
   "name": "python",
   "nbconvert_exporter": "python",
   "pygments_lexer": "ipython2",
   "version": "2.7.13"
  }
 },
 "nbformat": 4,
 "nbformat_minor": 2
}
