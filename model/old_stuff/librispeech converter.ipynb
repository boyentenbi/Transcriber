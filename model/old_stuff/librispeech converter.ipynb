{
 "cells": [
  {
   "cell_type": "code",
   "execution_count": 1,
   "metadata": {
    "collapsed": true
   },
   "outputs": [],
   "source": [
    "import os\n",
    "import re\n",
    "import shutil\n",
    "# m = re.search('(?<=abc)def', 'abcdef')\n",
    "# m.group(0)\n",
    "\n",
    "def flatten_librispeech_directory(set_name ):\n",
    "    A = os.listdir(\"LibriSpeech/\"+set_name+\"\")\n",
    "    counter = 0\n",
    "    for a in A:\n",
    "        B = os.listdir(\"LibriSpeech/\"+set_name+\"/\"+a)\n",
    "        for b in B:\n",
    "\n",
    "            filenames = os.listdir(\"LibriSpeech/\"+set_name+\"/\"+a+\"/\"+b)\n",
    "            for k in filenames:\n",
    "                shutil.move(\"LibriSpeech/\"+set_name+\"/\"+a+\"/\"+b+\"/\"+k, \"LibriSpeech/\"+set_name)\n",
    "\n",
    "                \n",
    "def extract_librispeech_labels(set_name):\n",
    "    counter = 0\n",
    "    # Write the labels\n",
    "    filenames = os.listdir(\"LibriSpeech/\"+set_name)\n",
    "    transcript_regex = \"[0-9]*-[0-9]*.trans.txt\"\n",
    "    for k in filenames:\n",
    "        match = re.match(transcript_regex, k)\n",
    "        if match:\n",
    "#             counter +=1\n",
    "#             if counter > 2:\n",
    "#                 break\n",
    "#             print match.group(0)\n",
    "            text_filename = match.group(0)\n",
    "            text_file = open(\"LibriSpeech/\"+set_name+\"/\"+text_filename)\n",
    "            lines = text_file.read().split(\"\\n\")\n",
    "            for line in lines:\n",
    "                if not line:\n",
    "                    continue\n",
    "                label_regex = \"([0-9]*-[0-9]*-[0-9]*)\\s([A-Z\\s]*)\"\n",
    "                line_match = re.match(label_regex, line)\n",
    "#                 print line_match.group(2)\n",
    "                point_name, label = line_match.group(1), line_match.group(2)\n",
    "#                 print name\n",
    "#                 print label\n",
    "                label_file = open(\"LibriSpeech/\"+set_name+\"/\"+point_name+\".flac.trn\", \"w\")\n",
    "                label_file.write(label.lower())\n",
    "                # Write the files\n",
    "            \n"
   ]
  },
  {
   "cell_type": "code",
   "execution_count": 2,
   "metadata": {
    "collapsed": true
   },
   "outputs": [],
   "source": [
    "flatten_librispeech_directory(\"train-clean-360\")"
   ]
  },
  {
   "cell_type": "code",
   "execution_count": 3,
   "metadata": {
    "collapsed": true
   },
   "outputs": [],
   "source": [
    "extract_librispeech_labels(\"train-clean-360\")"
   ]
  },
  {
   "cell_type": "code",
   "execution_count": null,
   "metadata": {
    "collapsed": true
   },
   "outputs": [],
   "source": [
    "storage_stem = \"libri_peter\"\n",
    "label_suffix = \"trn\"\n",
    "reg_expr = r\"^(.*)\\.wav$\"\n",
    "data_folder_name = \"data_voip_en/data\"\n",
    "dest_folder_name = \"converted_data_peter\"\n",
    "batch_size = 100\n",
    "batch_convert(label_suffix, data_folder_name, dest_folder_name, storage_stem, reg_expr, batch_size)"
   ]
  },
  {
   "cell_type": "code",
   "execution_count": 13,
   "metadata": {},
   "outputs": [
    {
     "data": {
      "text/plain": [
       "29375"
      ]
     },
     "execution_count": 13,
     "metadata": {},
     "output_type": "execute_result"
    }
   ],
   "source": [
    "filenames=os.listdir(\"LibriSpeech/train-clean-100\")\n",
    "len(filenames)"
   ]
  },
  {
   "cell_type": "code",
   "execution_count": null,
   "metadata": {
    "collapsed": true
   },
   "outputs": [],
   "source": [
    "match = re.match()"
   ]
  }
 ],
 "metadata": {
  "anaconda-cloud": {},
  "kernelspec": {
   "display_name": "Python 2",
   "language": "python",
   "name": "python2"
  },
  "language_info": {
   "codemirror_mode": {
    "name": "ipython",
    "version": 2
   },
   "file_extension": ".py",
   "mimetype": "text/x-python",
   "name": "python",
   "nbconvert_exporter": "python",
   "pygments_lexer": "ipython2",
   "version": "2.7.13"
  }
 },
 "nbformat": 4,
 "nbformat_minor": 2
}
