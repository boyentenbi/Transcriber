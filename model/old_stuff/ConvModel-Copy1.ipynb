{
 "cells": [
  {
   "cell_type": "code",
   "execution_count": 1,
   "metadata": {},
   "outputs": [
    {
     "name": "stderr",
     "output_type": "stream",
     "text": [
      "Using TensorFlow backend.\n"
     ]
    },
    {
     "ename": "ImportError",
     "evalue": "No module named python_speech_features",
     "output_type": "error",
     "traceback": [
      "\u001b[0;31m---------------------------------------------------------------------------\u001b[0m",
      "\u001b[0;31mImportError\u001b[0m                               Traceback (most recent call last)",
      "\u001b[0;32m<ipython-input-1-c278042cc6b8>\u001b[0m in \u001b[0;36m<module>\u001b[0;34m()\u001b[0m\n\u001b[1;32m     21\u001b[0m \u001b[0;31m# import pandas\u001b[0m\u001b[0;34m\u001b[0m\u001b[0;34m\u001b[0m\u001b[0m\n\u001b[1;32m     22\u001b[0m \u001b[0;34m\u001b[0m\u001b[0m\n\u001b[0;32m---> 23\u001b[0;31m \u001b[0;32mfrom\u001b[0m \u001b[0mprocess_data\u001b[0m \u001b[0;32mimport\u001b[0m \u001b[0;34m*\u001b[0m\u001b[0;34m\u001b[0m\u001b[0m\n\u001b[0m\u001b[1;32m     24\u001b[0m \u001b[0;32mimport\u001b[0m \u001b[0mos\u001b[0m\u001b[0;34m\u001b[0m\u001b[0m\n\u001b[1;32m     25\u001b[0m \u001b[0;34m\u001b[0m\u001b[0m\n",
      "\u001b[0;32m/home/ubuntu/Transcriber/model/data_handling/process_data.py\u001b[0m in \u001b[0;36m<module>\u001b[0;34m()\u001b[0m\n\u001b[1;32m      4\u001b[0m \u001b[0;32mimport\u001b[0m \u001b[0mnltk\u001b[0m\u001b[0;34m\u001b[0m\u001b[0m\n\u001b[1;32m      5\u001b[0m \u001b[0;32mimport\u001b[0m \u001b[0mitertools\u001b[0m\u001b[0;34m\u001b[0m\u001b[0m\n\u001b[0;32m----> 6\u001b[0;31m \u001b[0;32mfrom\u001b[0m \u001b[0mpython_speech_features\u001b[0m \u001b[0;32mimport\u001b[0m \u001b[0mfbank\u001b[0m\u001b[0;34m\u001b[0m\u001b[0m\n\u001b[0m\u001b[1;32m      7\u001b[0m \u001b[0;32mimport\u001b[0m \u001b[0msoundfile\u001b[0m \u001b[0;32mas\u001b[0m \u001b[0msf\u001b[0m\u001b[0;34m\u001b[0m\u001b[0m\n\u001b[1;32m      8\u001b[0m \u001b[0;32mimport\u001b[0m \u001b[0mmultiprocessing\u001b[0m \u001b[0;32mas\u001b[0m \u001b[0mmp\u001b[0m\u001b[0;34m\u001b[0m\u001b[0m\n",
      "\u001b[0;31mImportError\u001b[0m: No module named python_speech_features"
     ]
    }
   ],
   "source": [
    "# import tensorflow as tf\n",
    "# sess = tf.Session()\n",
    "import keras\n",
    "from keras import backend as K\n",
    "# K.set_session(sess)\n",
    "\n",
    "\n",
    "from keras.models import Model\n",
    "from keras.layers import Dense, LSTM, Input, Embedding, GRU, Masking, Dropout, Lambda, Flatten, concatenate, Conv1D\n",
    "from keras.layers.normalization import BatchNormalization\n",
    "from keras.optimizers import SGD, Adam\n",
    "from keras.preprocessing.sequence import pad_sequences\n",
    "\n",
    "from keras.backend import ctc_batch_cost, ctc_decode\n",
    "from IPython.display import SVG\n",
    "from keras.utils.vis_utils import model_to_dot\n",
    "import numpy as np\n",
    "import matplotlib.pyplot as plt\n",
    "%matplotlib inline\n",
    "\n",
    "# import pandas \n",
    "\n",
    "from process_data import *\n",
    "import os\n",
    "\n"
   ]
  },
  {
   "cell_type": "code",
   "execution_count": 2,
   "metadata": {
    "collapsed": true
   },
   "outputs": [],
   "source": [
    "import h5py"
   ]
  },
  {
   "cell_type": "code",
   "execution_count": 3,
   "metadata": {},
   "outputs": [
    {
     "name": "stdout",
     "output_type": "stream",
     "text": [
      "[name: \"/cpu:0\"\n",
      "device_type: \"CPU\"\n",
      "memory_limit: 268435456\n",
      "locality {\n",
      "}\n",
      "incarnation: 16981882811739105125\n",
      ", name: \"/gpu:0\"\n",
      "device_type: \"GPU\"\n",
      "memory_limit: 264634368\n",
      "locality {\n",
      "  bus_id: 1\n",
      "}\n",
      "incarnation: 4315876161457734053\n",
      "physical_device_desc: \"device: 0, name: Tesla K80, pci bus id: 0000:00:1e.0\"\n",
      "]\n"
     ]
    }
   ],
   "source": [
    "from tensorflow.python.client import device_lib\n",
    "print(device_lib.list_local_devices())"
   ]
  },
  {
   "cell_type": "code",
   "execution_count": null,
   "metadata": {
    "collapsed": true
   },
   "outputs": [],
   "source": [
    "batch_folder_name = \"converted_data_libri\"\n",
    "reg_expr = r\"^(libri.*)\\.id\"\n",
    "stem_names = get_names(batch_folder_name, reg_expr)\n",
    "abs_names = [os.path.join(batch_folder_name, x) for x in stem_names]\n",
    "sample_mfes = []\n",
    "sample_phonemes = []\n",
    "sample_ids = []\n",
    "for (i, batch_name) in enumerate(abs_names):\n",
    "    (ids_batch, mfe_batch, phoneme_batch) = load_batch(batch_name)\n",
    "    sample_mfes.extend(mfe_batch)\n",
    "    sample_phonemes.extend(phoneme_batch)\n",
    "    sample_ids.extend(ids_batch)"
   ]
  },
  {
   "cell_type": "code",
   "execution_count": 4,
   "metadata": {},
   "outputs": [
    {
     "name": "stdout",
     "output_type": "stream",
     "text": [
      " 65249 65249\n"
     ]
    }
   ],
   "source": [
    "print len(sample_mfes), len(sample_phonemes)"
   ]
  },
  {
   "cell_type": "code",
   "execution_count": 44,
   "metadata": {},
   "outputs": [
    {
     "data": {
      "text/plain": [
       "[u'N',\n",
       " u'AA',\n",
       " u'T',\n",
       " ' ',\n",
       " u'K',\n",
       " u'AH',\n",
       " u'M',\n",
       " u'P',\n",
       " u'AE',\n",
       " u'T',\n",
       " u'AH',\n",
       " u'B',\n",
       " u'AH',\n",
       " u'L',\n",
       " ' ',\n",
       " u'W',\n",
       " u'IH',\n",
       " u'DH',\n",
       " ' ',\n",
       " u'IH',\n",
       " u'N',\n",
       " u'D',\n",
       " u'IH',\n",
       " u'V',\n",
       " u'IH',\n",
       " u'JH',\n",
       " u'UW',\n",
       " u'AE',\n",
       " u'L',\n",
       " u'IH',\n",
       " u'T',\n",
       " u'IY',\n",
       " ' ',\n",
       " u'AY',\n",
       " ' ',\n",
       " u'AE',\n",
       " u'M',\n",
       " ' ',\n",
       " u'AH',\n",
       " u'V',\n",
       " ' ',\n",
       " u'K',\n",
       " u'AO',\n",
       " u'R',\n",
       " u'S',\n",
       " ' ',\n",
       " u'N',\n",
       " u'AA',\n",
       " u'T',\n",
       " ' ',\n",
       " u'AH',\n",
       " u'N',\n",
       " u'D',\n",
       " u'ER',\n",
       " u'T',\n",
       " u'EY',\n",
       " u'K',\n",
       " u'IH',\n",
       " u'NG',\n",
       " ' ',\n",
       " u'HH',\n",
       " u'IY',\n",
       " u'R',\n",
       " ' ',\n",
       " u'T',\n",
       " u'UW',\n",
       " ' ',\n",
       " u'D',\n",
       " u'IH',\n",
       " u'S',\n",
       " u'K',\n",
       " u'AH',\n",
       " u'S',\n",
       " ' ',\n",
       " u'DH',\n",
       " u'AH',\n",
       " ' ',\n",
       " u'M',\n",
       " u'EH',\n",
       " u'R',\n",
       " u'AH',\n",
       " u'T',\n",
       " u'S',\n",
       " ' ',\n",
       " u'AH',\n",
       " u'V',\n",
       " ' ',\n",
       " u'S',\n",
       " u'OW',\n",
       " u'SH',\n",
       " u'AH',\n",
       " u'L',\n",
       " u'IH',\n",
       " u'Z',\n",
       " u'AH',\n",
       " u'M',\n",
       " ' ',\n",
       " u'M',\n",
       " u'AY',\n",
       " ' ',\n",
       " u'P',\n",
       " u'ER',\n",
       " u'P',\n",
       " u'AH',\n",
       " u'S',\n",
       " ' ',\n",
       " u'IH',\n",
       " u'Z',\n",
       " ' ',\n",
       " u'OW',\n",
       " u'N',\n",
       " u'L',\n",
       " u'IY',\n",
       " ' ',\n",
       " u'T',\n",
       " u'UW',\n",
       " ' ',\n",
       " u'P',\n",
       " u'OY',\n",
       " u'N',\n",
       " u'T',\n",
       " ' ',\n",
       " u'AW',\n",
       " u'T',\n",
       " ' ',\n",
       " u'DH',\n",
       " u'AE',\n",
       " u'T',\n",
       " ' ',\n",
       " u'DH',\n",
       " u'OW',\n",
       " u'Z',\n",
       " ' ',\n",
       " u'HH',\n",
       " u'UW',\n",
       " ' ',\n",
       " u'AA',\n",
       " u'R',\n",
       " ' ',\n",
       " u'HH',\n",
       " u'AA',\n",
       " u'S',\n",
       " u'T',\n",
       " u'AH',\n",
       " u'L',\n",
       " ' ',\n",
       " u'T',\n",
       " u'UW',\n",
       " ' ',\n",
       " u'S',\n",
       " u'OW',\n",
       " u'SH',\n",
       " u'AH',\n",
       " u'L',\n",
       " u'IH',\n",
       " u'Z',\n",
       " u'AH',\n",
       " u'M',\n",
       " ' ',\n",
       " u'M',\n",
       " u'AH',\n",
       " u'S',\n",
       " u'T',\n",
       " ' ',\n",
       " u'CH',\n",
       " u'EH',\n",
       " u'R',\n",
       " u'IH',\n",
       " u'SH',\n",
       " ' ',\n",
       " u'L',\n",
       " u'IH',\n",
       " u'B',\n",
       " u'ER',\n",
       " u'T',\n",
       " u'IY',\n",
       " ' ']"
      ]
     },
     "execution_count": 44,
     "metadata": {},
     "output_type": "execute_result"
    }
   ],
   "source": [
    "sample_phonemes[0]"
   ]
  },
  {
   "cell_type": "code",
   "execution_count": 12,
   "metadata": {},
   "outputs": [
    {
     "data": {
      "image/png": "[encoded data removed]",
      "text/plain": [
       "<matplotlib.figure.Figure at 0x7f4ea2bad790>"
      ]
     },
     "metadata": {},
     "output_type": "display_data"
    }
   ],
   "source": [
    "plt.hist(map(lambda x: len(x), sample_phonemes));"
   ]
  },
  {
   "cell_type": "code",
   "execution_count": 4,
   "metadata": {
    "collapsed": true
   },
   "outputs": [],
   "source": [
    "def ctc_lambda_func(args):\n",
    "    y_pred, labels, input_length, label_length = args\n",
    "    # the 2 is critical here since the first couple outputs of the RNN\n",
    "    # tend to be garbage:\n",
    "#     y_pred = y_pred[:, 2:, :]\n",
    "    return ctc_batch_cost(labels, y_pred, input_length, label_length)"
   ]
  },
  {
   "cell_type": "code",
   "execution_count": 5,
   "metadata": {},
   "outputs": [
    {
     "name": "stdout",
     "output_type": "stream",
     "text": [
      "rf_size = 810 ms\n",
      "2\n",
      "3\n",
      "____________________________________________________________________________________________________\n",
      "Layer (type)                     Output Shape          Param #     Connected to                     \n",
      "====================================================================================================\n",
      "log_mfes (InputLayer)            (None, 1800, 40)      0                                            \n",
      "____________________________________________________________________________________________________\n",
      "batch_normalization_1 (BatchNorm (None, 1800, 40)      160         log_mfes[0][0]                   \n",
      "____________________________________________________________________________________________________\n",
      "conv1d_1 (Conv1D)                (None, 1800, 32)      3872        batch_normalization_1[0][0]      \n",
      "____________________________________________________________________________________________________\n",
      "concatenate_1 (Concatenate)      (None, 1800, 72)      0           log_mfes[0][0]                   \n",
      "                                                                   conv1d_1[0][0]                   \n",
      "____________________________________________________________________________________________________\n",
      "batch_normalization_2 (BatchNorm (None, 1800, 72)      288         concatenate_1[0][0]              \n",
      "____________________________________________________________________________________________________\n",
      "conv1d_2 (Conv1D)                (None, 1800, 32)      6944        batch_normalization_2[0][0]      \n",
      "____________________________________________________________________________________________________\n",
      "concatenate_2 (Concatenate)      (None, 1800, 104)     0           concatenate_1[0][0]              \n",
      "                                                                   conv1d_2[0][0]                   \n",
      "____________________________________________________________________________________________________\n",
      "batch_normalization_3 (BatchNorm (None, 1800, 104)     416         concatenate_2[0][0]              \n",
      "____________________________________________________________________________________________________\n",
      "conv1d_3 (Conv1D)                (None, 1800, 32)      10016       batch_normalization_3[0][0]      \n",
      "____________________________________________________________________________________________________\n",
      "concatenate_3 (Concatenate)      (None, 1800, 136)     0           concatenate_2[0][0]              \n",
      "                                                                   conv1d_3[0][0]                   \n",
      "____________________________________________________________________________________________________\n",
      "batch_normalization_4 (BatchNorm (None, 1800, 136)     544         concatenate_3[0][0]              \n",
      "____________________________________________________________________________________________________\n",
      "the_labels (InputLayer)          (None, 250)           0                                            \n",
      "____________________________________________________________________________________________________\n",
      "phoneme_probs (Conv1D)           (None, 1800, 41)      16769       batch_normalization_4[0][0]      \n",
      "____________________________________________________________________________________________________\n",
      "masking_1 (Masking)              (None, 250)           0           the_labels[0][0]                 \n",
      "____________________________________________________________________________________________________\n",
      "input_length (InputLayer)        (None, 1)             0                                            \n",
      "____________________________________________________________________________________________________\n",
      "label_length (InputLayer)        (None, 1)             0                                            \n",
      "____________________________________________________________________________________________________\n",
      "ctc (Lambda)                     (None, 1)             0           phoneme_probs[0][0]              \n",
      "                                                                   masking_1[0][0]                  \n",
      "                                                                   input_length[0][0]               \n",
      "                                                                   label_length[0][0]               \n",
      "====================================================================================================\n",
      "Total params: 39,009\n",
      "Trainable params: 38,305\n",
      "Non-trainable params: 704\n",
      "____________________________________________________________________________________________________\n"
     ]
    }
   ],
   "source": [
    "stack_size = 1\n",
    "n_hidden_layers = 3\n",
    "n_filters = 32\n",
    "kernel_size = 3\n",
    "residuals = True\n",
    "dilation_reset = 7\n",
    "rf_size  = 3**(min(dilation_reset-1, n_hidden_layers+1))\n",
    "print \"rf_size =\", rf_size*10, \"ms\"\n",
    "max_mfe_len = 1800\n",
    "max_phrase_len = 250\n",
    "n_energies = 40 * stack_size\n",
    "n_phonemes = 40+1\n",
    "blank_idx = n_phonemes - 1\n",
    "labels = Input(name='the_labels', shape=[max_phrase_len], dtype='float32')\n",
    "labels_masked = Masking()(labels)\n",
    "input_length = Input(name='input_length',shape=[1], dtype='int64')\n",
    "label_length = Input(name='label_length', shape=[1], dtype='int64')\n",
    "log_mfes = Input(shape=(max_mfe_len, n_energies), name=\"log_mfes\")\n",
    "masked = log_mfes\n",
    "layers = [masked]\n",
    "accums = [masked]\n",
    "for i in range( n_hidden_layers):\n",
    "    \n",
    "    if residuals and i >0:\n",
    "        print len(layers)\n",
    "        accums.append(keras.layers.concatenate([accums[-1], layers[-1]]))\n",
    "        linear = Conv1D(n_filters, kernel_size, padding='same', dilation_rate=3**(i%dilation_reset), activation=\"linear\")(accums[-1])\n",
    "    else:\n",
    "        linear = Conv1D(n_filters, kernel_size, padding='same', dilation_rate=3**(i%dilation_reset), activation=\"linear\")(layers[-1])\n",
    "    batch_normed = BatchNormalization(layer)\n",
    "    activated = Activation(\"relu\")\n",
    "    layers.append(activated)\n",
    "\n",
    "if residuals:\n",
    "    \n",
    "    all_concat = keras.layers.concatenate([accums[-1], layers[-1]])\n",
    "    phoneme_probs = Conv1D(n_phonemes, kernel_size, padding='same', dilation_rate=3**(n_hidden_layers%dilation_reset), activation='softmax', name=\"phoneme_probs\")(BatchNormalization()(all_concat))\n",
    "else:\n",
    "    phoneme_probs = Conv1D(n_phonemes, kernel_size, padding='same', dilation_rate=3**(n_hidden_layers%dilation_reset), activation='softmax', name=\"phoneme_probs\")(BatchNormalization()(layers[-1]))\n",
    "\n",
    "# Keras doesn't currently support loss funcs with extra parameters\n",
    "# so CTC loss is implemented in a lambda layer\n",
    "loss_out = Lambda(ctc_lambda_func, output_shape=(1,), name='ctc')([phoneme_probs, labels_masked, input_length, label_length])\n",
    "# reshaped_input_lengths = Reshape((-1,))(input_length)\n",
    "# decoded = Lambda(ctc_decode, output_shape=(None,1))([phoneme_probs,  input_length_flat])\n",
    "\n",
    "model = Model(inputs=[log_mfes, labels, input_length, label_length], outputs=[loss_out, phoneme_probs])\n",
    "\n",
    "model.summary()"
   ]
  },
  {
   "cell_type": "code",
   "execution_count": 15,
   "metadata": {},
   "outputs": [
    {
     "ename": "ImportError",
     "evalue": "Failed to import pydot. You must install pydot and graphviz for `pydotprint` to work.",
     "output_type": "error",
     "traceback": [
      "\u001b[0;31m---------------------------------------------------------------------------\u001b[0m",
      "\u001b[0;31mImportError\u001b[0m                               Traceback (most recent call last)",
      "\u001b[0;32m<ipython-input-15-779239671584>\u001b[0m in \u001b[0;36m<module>\u001b[0;34m()\u001b[0m\n\u001b[0;32m----> 1\u001b[0;31m \u001b[0mSVG\u001b[0m\u001b[0;34m(\u001b[0m\u001b[0mmodel_to_dot\u001b[0m\u001b[0;34m(\u001b[0m\u001b[0mmodel\u001b[0m\u001b[0;34m)\u001b[0m\u001b[0;34m.\u001b[0m\u001b[0mcreate\u001b[0m\u001b[0;34m(\u001b[0m\u001b[0mprog\u001b[0m\u001b[0;34m=\u001b[0m\u001b[0;34m'dot'\u001b[0m\u001b[0;34m,\u001b[0m \u001b[0mformat\u001b[0m\u001b[0;34m=\u001b[0m\u001b[0;34m'svg'\u001b[0m\u001b[0;34m)\u001b[0m\u001b[0;34m)\u001b[0m\u001b[0;34m\u001b[0m\u001b[0m\n\u001b[0m",
      "\u001b[0;32m/home/ubuntu/anaconda2/envs/transcriber/lib/python2.7/site-packages/keras/utils/vis_utils.pyc\u001b[0m in \u001b[0;36mmodel_to_dot\u001b[0;34m(model, show_shapes, show_layer_names, rankdir)\u001b[0m\n\u001b[1;32m     50\u001b[0m     \u001b[0;32mfrom\u001b[0m \u001b[0;34m.\u001b[0m\u001b[0;34m.\u001b[0m\u001b[0mmodels\u001b[0m \u001b[0;32mimport\u001b[0m \u001b[0mSequential\u001b[0m\u001b[0;34m\u001b[0m\u001b[0m\n\u001b[1;32m     51\u001b[0m \u001b[0;34m\u001b[0m\u001b[0m\n\u001b[0;32m---> 52\u001b[0;31m     \u001b[0m_check_pydot\u001b[0m\u001b[0;34m(\u001b[0m\u001b[0;34m)\u001b[0m\u001b[0;34m\u001b[0m\u001b[0m\n\u001b[0m\u001b[1;32m     53\u001b[0m     \u001b[0mdot\u001b[0m \u001b[0;34m=\u001b[0m \u001b[0mpydot\u001b[0m\u001b[0;34m.\u001b[0m\u001b[0mDot\u001b[0m\u001b[0;34m(\u001b[0m\u001b[0;34m)\u001b[0m\u001b[0;34m\u001b[0m\u001b[0m\n\u001b[1;32m     54\u001b[0m     \u001b[0mdot\u001b[0m\u001b[0;34m.\u001b[0m\u001b[0mset\u001b[0m\u001b[0;34m(\u001b[0m\u001b[0;34m'rankdir'\u001b[0m\u001b[0;34m,\u001b[0m \u001b[0mrankdir\u001b[0m\u001b[0;34m)\u001b[0m\u001b[0;34m\u001b[0m\u001b[0m\n",
      "\u001b[0;32m/home/ubuntu/anaconda2/envs/transcriber/lib/python2.7/site-packages/keras/utils/vis_utils.pyc\u001b[0m in \u001b[0;36m_check_pydot\u001b[0;34m()\u001b[0m\n\u001b[1;32m     25\u001b[0m         \u001b[0;31m# pydot raises a generic Exception here,\u001b[0m\u001b[0;34m\u001b[0m\u001b[0;34m\u001b[0m\u001b[0m\n\u001b[1;32m     26\u001b[0m         \u001b[0;31m# so no specific class can be caught.\u001b[0m\u001b[0;34m\u001b[0m\u001b[0;34m\u001b[0m\u001b[0m\n\u001b[0;32m---> 27\u001b[0;31m         raise ImportError('Failed to import pydot. You must install pydot'\n\u001b[0m\u001b[1;32m     28\u001b[0m                           ' and graphviz for `pydotprint` to work.')\n\u001b[1;32m     29\u001b[0m \u001b[0;34m\u001b[0m\u001b[0m\n",
      "\u001b[0;31mImportError\u001b[0m: Failed to import pydot. You must install pydot and graphviz for `pydotprint` to work."
     ]
    }
   ],
   "source": [
    "SVG(model_to_dot(model).create(prog='dot', format='svg'))"
   ]
  },
  {
   "cell_type": "code",
   "execution_count": 6,
   "metadata": {
    "collapsed": true
   },
   "outputs": [],
   "source": [
    "# clipnorm seems to speeds up convergence\n",
    "sgd = Adam(lr=0.02, clipnorm=5)\n",
    "\n",
    "\n",
    "# the loss calc occurs elsewhere, so use a dummy lambda func for the loss (y_pred is actually loss_out)\n",
    "model.compile(loss={'ctc': lambda y_true, y_pred: y_pred, 'phoneme_probs': lambda y_true, y_pred: 0*y_pred}, optimizer=sgd)"
   ]
  },
  {
   "cell_type": "code",
   "execution_count": 45,
   "metadata": {},
   "outputs": [
    {
     "data": {
      "text/plain": [
       "64842"
      ]
     },
     "execution_count": 45,
     "metadata": {},
     "output_type": "execute_result"
    }
   ],
   "source": [
    "import matplotlib.pyplot as plt\n",
    "%matplotlib inline\n",
    "short_indices = [i for (i,mfe) in enumerate(sample_mfes) if mfe.shape[0] <= max_mfe_len and len(sample_phonemes[i])<=max_phrase_len]\n",
    "short_mfes = [sample_mfes[i] for i in short_indices]\n",
    "short_phonemes =[sample_phonemes[i] for i in short_indices]\n",
    "short_ids = [sample_ids[i] for i in short_indices]\n",
    "len(short_phonemes)"
   ]
  },
  {
   "cell_type": "code",
   "execution_count": 16,
   "metadata": {
    "collapsed": true
   },
   "outputs": [],
   "source": [
    "temp_mfes = short_mfes[:30000]\n",
    "temp_phonemes = short_phonemes[:30000]\n",
    "short_mfes = temp_mfes\n",
    "short_phonemes = temp_phonemes\n",
    "del temp_mfes\n",
    "del temp_phonemes\n",
    "\n"
   ]
  },
  {
   "cell_type": "code",
   "execution_count": 17,
   "metadata": {},
   "outputs": [
    {
     "data": {
      "text/plain": [
       "30000"
      ]
     },
     "execution_count": 17,
     "metadata": {},
     "output_type": "execute_result"
    }
   ],
   "source": [
    "len(short_mfes)"
   ]
  },
  {
   "cell_type": "code",
   "execution_count": 19,
   "metadata": {},
   "outputs": [
    {
     "data": {
      "text/plain": [
       "(array([  1351.,   3270.,   3141.,   2979.,   2947.,   3550.,   6297.,\n",
       "         13894.,  22122.,   5291.]),\n",
       " array([  105. ,   268.9,   432.8,   596.7,   760.6,   924.5,  1088.4,\n",
       "         1252.3,  1416.2,  1580.1,  1744. ]),\n",
       " <a list of 10 Patch objects>)"
      ]
     },
     "execution_count": 19,
     "metadata": {},
     "output_type": "execute_result"
    },
    {
     "data": {
      "image/png": "[encoded data removed]",
      "text/plain": [
       "<matplotlib.figure.Figure at 0x7f4a1d51cd50>"
      ]
     },
     "metadata": {},
     "output_type": "display_data"
    }
   ],
   "source": [
    "plt.hist(map(lambda x: x.shape[0], short_mfes))"
   ]
  },
  {
   "cell_type": "code",
   "execution_count": 18,
   "metadata": {
    "scrolled": true
   },
   "outputs": [
    {
     "name": "stdout",
     "output_type": "stream",
     "text": [
      "Created data, plotting histogram...\n"
     ]
    }
   ],
   "source": [
    "input_lengths = [x.shape[0] for x in short_mfes]\n",
    "label_lengths = [len(x) for x in short_phonemes]\n",
    "phoneme_idxs  = [code_phonemes(x) for x in short_phonemes]\n",
    "print \"Created data, plotting histogram...\"\n"
   ]
  },
  {
   "cell_type": "code",
   "execution_count": 19,
   "metadata": {},
   "outputs": [
    {
     "data": {
      "text/plain": [
       "30000"
      ]
     },
     "execution_count": 19,
     "metadata": {},
     "output_type": "execute_result"
    }
   ],
   "source": [
    "len(phoneme_idxs)"
   ]
  },
  {
   "cell_type": "code",
   "execution_count": null,
   "metadata": {
    "collapsed": true
   },
   "outputs": [],
   "source": [
    "all_idxs = [idx for phrase in phoneme_idxs for idx in phrase]\n",
    "\n",
    "plt.hist(all_idxs,bins=len(set(all_idxs)));"
   ]
  },
  {
   "cell_type": "code",
   "execution_count": 20,
   "metadata": {},
   "outputs": [
    {
     "data": {
      "text/plain": [
       "(30000, 250)"
      ]
     },
     "execution_count": 20,
     "metadata": {},
     "output_type": "execute_result"
    }
   ],
   "source": [
    "from keras.preprocessing.sequence import pad_sequences\n",
    "\n",
    "# Should I pad at the beginning or the end? Probably the end\n",
    "# Pad with value 69 because the phonemes are indexed 0 to 68\n",
    "y = keras.preprocessing.sequence.pad_sequences(phoneme_idxs, maxlen=max_phrase_len, dtype='int32',\n",
    "    padding='post', truncating='post', value=-1)\n",
    "y.shape"
   ]
  },
  {
   "cell_type": "code",
   "execution_count": 21,
   "metadata": {},
   "outputs": [
    {
     "data": {
      "text/plain": [
       "array([23,  1, 31,  0, 20,  3, 22, 27,  2, 31,  3,  7,  3, 21,  0, 36, 17,\n",
       "       10,  0, 17, 23,  9, 17, 35, 17, 19, 34,  2, 21, 17, 31, 18,  0,  6,\n",
       "        0,  2, 22,  0,  3, 35,  0, 20,  4, 28, 29,  0, 23,  1, 31,  0,  3,\n",
       "       23,  9, 12, 31, 13, 20, 17, 24,  0, 16, 18, 28,  0, 31, 34,  0,  9,\n",
       "       17, 29, 20,  3, 29,  0, 10,  3,  0, 22, 11, 28,  3, 31, 29,  0,  3,\n",
       "       35,  0, 29, 25, 30,  3, 21, 17, 38,  3, 22,  0, 22,  6,  0, 27, 12,\n",
       "       27,  3, 29,  0, 17, 38,  0, 25, 23, 21, 18,  0, 31, 34,  0, 27, 26,\n",
       "       23, 31,  0,  5, 31,  0, 10,  2, 31,  0, 10, 25, 38,  0, 16, 34,  0,\n",
       "        1, 28,  0, 16,  1, 29, 31,  3, 21,  0, 31, 34,  0, 29, 25, 30,  3,\n",
       "       21, 17, 38,  3, 22,  0, 22,  3, 29, 31,  0,  8, 11, 28, 17, 30,  0,\n",
       "       21, 17,  7, 12, 31, 18,  0, -1, -1, -1, -1, -1, -1, -1, -1, -1, -1,\n",
       "       -1, -1, -1, -1, -1, -1, -1, -1, -1, -1, -1, -1, -1, -1, -1, -1, -1,\n",
       "       -1, -1, -1, -1, -1, -1, -1, -1, -1, -1, -1, -1, -1, -1, -1, -1, -1,\n",
       "       -1, -1, -1, -1, -1, -1, -1, -1, -1, -1, -1, -1, -1, -1, -1, -1, -1,\n",
       "       -1, -1, -1, -1, -1, -1, -1, -1, -1, -1, -1, -1], dtype=int32)"
      ]
     },
     "execution_count": 21,
     "metadata": {},
     "output_type": "execute_result"
    }
   ],
   "source": [
    "y[0]"
   ]
  },
  {
   "cell_type": "code",
   "execution_count": 22,
   "metadata": {},
   "outputs": [
    {
     "data": {
      "image/png": "[encoded data removed]",
      "text/plain": [
       "<matplotlib.figure.Figure at 0x7f64bc781750>"
      ]
     },
     "metadata": {},
     "output_type": "display_data"
    }
   ],
   "source": [
    "plt.hist(y.flatten(), bins=len(set(y.flatten())));"
   ]
  },
  {
   "cell_type": "code",
   "execution_count": 23,
   "metadata": {},
   "outputs": [
    {
     "data": {
      "text/plain": [
       "(30000, 1800, 40)"
      ]
     },
     "execution_count": 23,
     "metadata": {},
     "output_type": "execute_result"
    }
   ],
   "source": [
    "X=keras.preprocessing.sequence.pad_sequences(short_mfes, maxlen=max_mfe_len, dtype='float32',\n",
    "    padding='post', truncating='post', value=0.)\n",
    "X.shape"
   ]
  },
  {
   "cell_type": "code",
   "execution_count": 24,
   "metadata": {},
   "outputs": [
    {
     "data": {
      "text/plain": [
       "array([[-25.22766495, -25.58367348, -24.97477341, ..., -19.49644661,\n",
       "        -20.03422737, -20.23960686],\n",
       "       [-25.35206604, -27.12319946, -24.7471714 , ..., -19.48760796,\n",
       "        -19.78377151, -20.38406944],\n",
       "       [-24.89183998, -25.01822853, -24.60209084, ..., -19.62212944,\n",
       "        -19.67237854, -19.67811966],\n",
       "       ..., \n",
       "       [  0.        ,   0.        ,   0.        , ...,   0.        ,\n",
       "          0.        ,   0.        ],\n",
       "       [  0.        ,   0.        ,   0.        , ...,   0.        ,\n",
       "          0.        ,   0.        ],\n",
       "       [  0.        ,   0.        ,   0.        , ...,   0.        ,\n",
       "          0.        ,   0.        ]], dtype=float32)"
      ]
     },
     "execution_count": 24,
     "metadata": {},
     "output_type": "execute_result"
    }
   ],
   "source": [
    "X[0]"
   ]
  },
  {
   "cell_type": "code",
   "execution_count": 26,
   "metadata": {
    "collapsed": true
   },
   "outputs": [],
   "source": [
    "inputs = {'log_mfes': X[:,:,:40],\n",
    "          'the_labels': y,\n",
    "          'input_length': np.asarray(input_lengths),\n",
    "          'label_length': np.asarray(label_lengths),\n",
    "#           'source_str': source_str  # used for visualization only\n",
    "          }\n",
    "outputs = {'ctc': np.zeros([len(input_lengths)]), \n",
    "           'phoneme_probs':np.zeros([len(input_lengths),n_phonemes, max_mfe_len])}  # dummy data for dummy loss function\n",
    "from keras.callbacks import ModelCheckpoint\n",
    "model_name = \"weights-improvement-{epoch:02d}-{val_acc:.2f}.hdf5\"\n",
    "checkpoint = ModelCheckpoint(filepath = \"saved_models/\"+model_name, monitor=\"val acc\")"
   ]
  },
  {
   "cell_type": "code",
   "execution_count": 30,
   "metadata": {
    "scrolled": true
   },
   "outputs": [
    {
     "name": "stdout",
     "output_type": "stream",
     "text": [
      "Train on 21000 samples, validate on 9000 samples\n",
      "Epoch 1/200\n",
      "21000/21000 [==============================] - 1047s - loss: 402.4241 - ctc_loss: 402.4241 - phoneme_probs_loss: 0.0000e+00 - val_loss: 388.2774 - val_ctc_loss: 388.2774 - val_phoneme_probs_loss: 0.0000e+00\n",
      "Epoch 2/200\n",
      "21000/21000 [==============================] - 1047s - loss: 379.2786 - ctc_loss: 379.2786 - phoneme_probs_loss: 0.0000e+00 - val_loss: 367.2220 - val_ctc_loss: 367.2220 - val_phoneme_probs_loss: 0.0000e+00\n",
      "Epoch 3/200\n",
      "21000/21000 [==============================] - 1046s - loss: 368.6271 - ctc_loss: 368.6271 - phoneme_probs_loss: 0.0000e+00 - val_loss: 359.8072 - val_ctc_loss: 359.8072 - val_phoneme_probs_loss: 0.0000e+00\n",
      "Epoch 4/200\n",
      "21000/21000 [==============================] - 1046s - loss: 359.3557 - ctc_loss: 359.3557 - phoneme_probs_loss: 0.0000e+00 - val_loss: 356.8541 - val_ctc_loss: 356.8541 - val_phoneme_probs_loss: 0.0000e+00\n",
      "Epoch 5/200\n",
      "21000/21000 [==============================] - 1046s - loss: 352.6984 - ctc_loss: 352.6984 - phoneme_probs_loss: 0.0000e+00 - val_loss: 348.1030 - val_ctc_loss: 348.1030 - val_phoneme_probs_loss: 0.0000e+00\n",
      "Epoch 6/200\n",
      "21000/21000 [==============================] - 1046s - loss: 347.6650 - ctc_loss: 347.6650 - phoneme_probs_loss: 0.0000e+00 - val_loss: 340.5242 - val_ctc_loss: 340.5242 - val_phoneme_probs_loss: 0.0000e+00\n",
      "Epoch 7/200\n",
      "21000/21000 [==============================] - 1045s - loss: 346.2688 - ctc_loss: 346.2688 - phoneme_probs_loss: 0.0000e+00 - val_loss: 340.0964 - val_ctc_loss: 340.0964 - val_phoneme_probs_loss: 0.0000e+00\n",
      "Epoch 8/200\n",
      "21000/21000 [==============================] - 1045s - loss: 343.7757 - ctc_loss: 343.7757 - phoneme_probs_loss: 0.0000e+00 - val_loss: 341.6808 - val_ctc_loss: 341.6808 - val_phoneme_probs_loss: 0.0000e+00\n",
      "Epoch 9/200\n",
      "21000/21000 [==============================] - 1046s - loss: 341.6035 - ctc_loss: 341.6035 - phoneme_probs_loss: 0.0000e+00 - val_loss: 335.7783 - val_ctc_loss: 335.7783 - val_phoneme_probs_loss: 0.0000e+00\n",
      "Epoch 10/200\n",
      "21000/21000 [==============================] - 1046s - loss: 339.7723 - ctc_loss: 339.7723 - phoneme_probs_loss: 0.0000e+00 - val_loss: 335.4737 - val_ctc_loss: 335.4737 - val_phoneme_probs_loss: 0.0000e+00\n",
      "Epoch 11/200\n",
      "21000/21000 [==============================] - 1046s - loss: 338.7370 - ctc_loss: 338.7370 - phoneme_probs_loss: 0.0000e+00 - val_loss: 334.6125 - val_ctc_loss: 334.6125 - val_phoneme_probs_loss: 0.0000e+00\n",
      "Epoch 12/200\n",
      "21000/21000 [==============================] - 1045s - loss: 337.9184 - ctc_loss: 337.9184 - phoneme_probs_loss: 0.0000e+00 - val_loss: 333.6056 - val_ctc_loss: 333.6056 - val_phoneme_probs_loss: 0.0000e+00\n",
      "Epoch 13/200\n",
      "21000/21000 [==============================] - 1045s - loss: 336.5967 - ctc_loss: 336.5967 - phoneme_probs_loss: 0.0000e+00 - val_loss: 332.8656 - val_ctc_loss: 332.8656 - val_phoneme_probs_loss: 0.0000e+00\n",
      "Epoch 14/200\n",
      "21000/21000 [==============================] - 1047s - loss: 335.2873 - ctc_loss: 335.2873 - phoneme_probs_loss: 0.0000e+00 - val_loss: 351.5942 - val_ctc_loss: 351.5942 - val_phoneme_probs_loss: 0.0000e+00\n",
      "Epoch 15/200\n",
      "21000/21000 [==============================] - 1053s - loss: 335.4667 - ctc_loss: 335.4667 - phoneme_probs_loss: 0.0000e+00 - val_loss: 335.1644 - val_ctc_loss: 335.1644 - val_phoneme_probs_loss: 0.0000e+00\n",
      "Epoch 16/200\n",
      "21000/21000 [==============================] - 1056s - loss: 333.7502 - ctc_loss: 333.7502 - phoneme_probs_loss: 0.0000e+00 - val_loss: 331.8950 - val_ctc_loss: 331.8950 - val_phoneme_probs_loss: 0.0000e+00\n",
      "Epoch 17/200\n",
      "21000/21000 [==============================] - 1056s - loss: 333.9897 - ctc_loss: 333.9897 - phoneme_probs_loss: 0.0000e+00 - val_loss: 327.4413 - val_ctc_loss: 327.4413 - val_phoneme_probs_loss: 0.0000e+00\n",
      "Epoch 18/200\n",
      "21000/21000 [==============================] - 1048s - loss: 332.7894 - ctc_loss: 332.7894 - phoneme_probs_loss: 0.0000e+00 - val_loss: 325.4785 - val_ctc_loss: 325.4785 - val_phoneme_probs_loss: 0.0000e+00\n",
      "Epoch 19/200\n",
      "21000/21000 [==============================] - 1045s - loss: 332.4869 - ctc_loss: 332.4869 - phoneme_probs_loss: 0.0000e+00 - val_loss: 327.9081 - val_ctc_loss: 327.9081 - val_phoneme_probs_loss: 0.0000e+00\n",
      "Epoch 20/200\n",
      "21000/21000 [==============================] - 1044s - loss: 331.8355 - ctc_loss: 331.8355 - phoneme_probs_loss: 0.0000e+00 - val_loss: 326.4174 - val_ctc_loss: 326.4174 - val_phoneme_probs_loss: 0.0000e+00\n",
      "Epoch 21/200\n",
      "21000/21000 [==============================] - 1045s - loss: 331.0475 - ctc_loss: 331.0475 - phoneme_probs_loss: 0.0000e+00 - val_loss: 333.4007 - val_ctc_loss: 333.4007 - val_phoneme_probs_loss: 0.0000e+00\n",
      "Epoch 22/200\n",
      "21000/21000 [==============================] - 1046s - loss: 330.9462 - ctc_loss: 330.9462 - phoneme_probs_loss: 0.0000e+00 - val_loss: 328.5901 - val_ctc_loss: 328.5901 - val_phoneme_probs_loss: 0.0000e+00\n",
      "Epoch 23/200\n",
      "21000/21000 [==============================] - 1046s - loss: 330.5976 - ctc_loss: 330.5976 - phoneme_probs_loss: 0.0000e+00 - val_loss: 331.7744 - val_ctc_loss: 331.7744 - val_phoneme_probs_loss: 0.0000e+00\n",
      "Epoch 24/200\n",
      "21000/21000 [==============================] - 1047s - loss: 329.6786 - ctc_loss: 329.6786 - phoneme_probs_loss: 0.0000e+00 - val_loss: 327.1124 - val_ctc_loss: 327.1124 - val_phoneme_probs_loss: 0.0000e+00\n",
      "Epoch 25/200\n",
      "21000/21000 [==============================] - 1053s - loss: 329.1031 - ctc_loss: 329.1031 - phoneme_probs_loss: 0.0000e+00 - val_loss: 323.4609 - val_ctc_loss: 323.4609 - val_phoneme_probs_loss: 0.0000e+00\n",
      "Epoch 26/200\n",
      "21000/21000 [==============================] - 1055s - loss: 329.2691 - ctc_loss: 329.2691 - phoneme_probs_loss: 0.0000e+00 - val_loss: 325.5807 - val_ctc_loss: 325.5807 - val_phoneme_probs_loss: 0.0000e+00\n",
      "Epoch 27/200\n",
      "21000/21000 [==============================] - 1045s - loss: 329.7296 - ctc_loss: 329.7296 - phoneme_probs_loss: 0.0000e+00 - val_loss: 325.9840 - val_ctc_loss: 325.9840 - val_phoneme_probs_loss: 0.0000e+00\n",
      "Epoch 28/200\n",
      "21000/21000 [==============================] - 1044s - loss: 328.6751 - ctc_loss: 328.6751 - phoneme_probs_loss: 0.0000e+00 - val_loss: 322.5555 - val_ctc_loss: 322.5555 - val_phoneme_probs_loss: 0.0000e+00\n",
      "Epoch 29/200\n",
      "21000/21000 [==============================] - 1042s - loss: 328.9107 - ctc_loss: 328.9107 - phoneme_probs_loss: 0.0000e+00 - val_loss: 322.3669 - val_ctc_loss: 322.3669 - val_phoneme_probs_loss: 0.0000e+00\n",
      "Epoch 30/200\n",
      "21000/21000 [==============================] - 1043s - loss: 327.3750 - ctc_loss: 327.3750 - phoneme_probs_loss: 0.0000e+00 - val_loss: 323.7142 - val_ctc_loss: 323.7142 - val_phoneme_probs_loss: 0.0000e+00\n",
      "Epoch 31/200\n",
      "21000/21000 [==============================] - 1042s - loss: 328.5658 - ctc_loss: 328.5658 - phoneme_probs_loss: 0.0000e+00 - val_loss: 324.8302 - val_ctc_loss: 324.8302 - val_phoneme_probs_loss: 0.0000e+00\n",
      "Epoch 32/200\n",
      "21000/21000 [==============================] - 1042s - loss: 327.3096 - ctc_loss: 327.3096 - phoneme_probs_loss: 0.0000e+00 - val_loss: 325.4160 - val_ctc_loss: 325.4160 - val_phoneme_probs_loss: 0.0000e+00\n",
      "Epoch 33/200\n",
      "21000/21000 [==============================] - 1043s - loss: 326.9482 - ctc_loss: 326.9482 - phoneme_probs_loss: 0.0000e+00 - val_loss: 324.6129 - val_ctc_loss: 324.6129 - val_phoneme_probs_loss: 0.0000e+00\n",
      "Epoch 34/200\n",
      "21000/21000 [==============================] - 1044s - loss: 326.9033 - ctc_loss: 326.9033 - phoneme_probs_loss: 0.0000e+00 - val_loss: 324.3152 - val_ctc_loss: 324.3152 - val_phoneme_probs_loss: 0.0000e+00\n",
      "Epoch 35/200\n",
      "21000/21000 [==============================] - 1041s - loss: 326.6527 - ctc_loss: 326.6527 - phoneme_probs_loss: 0.0000e+00 - val_loss: 335.3551 - val_ctc_loss: 335.3551 - val_phoneme_probs_loss: 0.0000e+00\n",
      "Epoch 36/200\n",
      "21000/21000 [==============================] - 1042s - loss: 326.4237 - ctc_loss: 326.4237 - phoneme_probs_loss: 0.0000e+00 - val_loss: 327.2190 - val_ctc_loss: 327.2190 - val_phoneme_probs_loss: 0.0000e+00\n",
      "Epoch 37/200\n",
      "21000/21000 [==============================] - 1042s - loss: 326.3005 - ctc_loss: 326.3005 - phoneme_probs_loss: 0.0000e+00 - val_loss: 321.2933 - val_ctc_loss: 321.2933 - val_phoneme_probs_loss: 0.0000e+00\n",
      "Epoch 38/200\n"
     ]
    },
    {
     "name": "stdout",
     "output_type": "stream",
     "text": [
      "21000/21000 [==============================] - 1042s - loss: 325.3368 - ctc_loss: 325.3368 - phoneme_probs_loss: 0.0000e+00 - val_loss: 322.4199 - val_ctc_loss: 322.4199 - val_phoneme_probs_loss: 0.0000e+00\n",
      "Epoch 39/200\n",
      "21000/21000 [==============================] - 1045s - loss: 325.6782 - ctc_loss: 325.6782 - phoneme_probs_loss: 0.0000e+00 - val_loss: 320.1518 - val_ctc_loss: 320.1518 - val_phoneme_probs_loss: 0.0000e+00\n",
      "Epoch 40/200\n",
      "21000/21000 [==============================] - 1042s - loss: 325.8123 - ctc_loss: 325.8123 - phoneme_probs_loss: 0.0000e+00 - val_loss: 323.0477 - val_ctc_loss: 323.0477 - val_phoneme_probs_loss: 0.0000e+00\n",
      "Epoch 41/200\n",
      "21000/21000 [==============================] - 1046s - loss: 325.3063 - ctc_loss: 325.3063 - phoneme_probs_loss: 0.0000e+00 - val_loss: 324.4142 - val_ctc_loss: 324.4142 - val_phoneme_probs_loss: 0.0000e+00\n",
      "Epoch 42/200\n",
      "15008/21000 [====================>.........] - ETA: 230s - loss: 325.9322 - ctc_loss: 325.9322 - phoneme_probs_loss: 0.0000e+00"
     ]
    },
    {
     "ename": "KeyboardInterrupt",
     "evalue": "",
     "output_type": "error",
     "traceback": [
      "\u001b[0;31m---------------------------------------------------------------------------\u001b[0m",
      "\u001b[0;31mKeyboardInterrupt\u001b[0m                         Traceback (most recent call last)",
      "\u001b[0;32m<ipython-input-30-c9c1bf097ac6>\u001b[0m in \u001b[0;36m<module>\u001b[0;34m()\u001b[0m\n\u001b[1;32m      1\u001b[0m \u001b[0;31m# callback = keras.function([log_mfes], [])\u001b[0m\u001b[0;34m\u001b[0m\u001b[0;34m\u001b[0m\u001b[0m\n\u001b[0;32m----> 2\u001b[0;31m \u001b[0mmodel\u001b[0m\u001b[0;34m.\u001b[0m\u001b[0mfit\u001b[0m\u001b[0;34m(\u001b[0m\u001b[0minputs\u001b[0m\u001b[0;34m,\u001b[0m \u001b[0moutputs\u001b[0m\u001b[0;34m,\u001b[0m \u001b[0mepochs\u001b[0m\u001b[0;34m=\u001b[0m\u001b[0;36m200\u001b[0m\u001b[0;34m,\u001b[0m \u001b[0mvalidation_split\u001b[0m \u001b[0;34m=\u001b[0m \u001b[0;36m0.3\u001b[0m\u001b[0;34m,\u001b[0m \u001b[0mbatch_size\u001b[0m \u001b[0;34m=\u001b[0m \u001b[0;36m32\u001b[0m\u001b[0;34m,\u001b[0m \u001b[0mverbose\u001b[0m \u001b[0;34m=\u001b[0m \u001b[0;36m1\u001b[0m\u001b[0;34m)\u001b[0m\u001b[0;34m\u001b[0m\u001b[0m\n\u001b[0m",
      "\u001b[0;32m/home/ubuntu/anaconda2/envs/transcriber/lib/python2.7/site-packages/keras/engine/training.pyc\u001b[0m in \u001b[0;36mfit\u001b[0;34m(self, x, y, batch_size, epochs, verbose, callbacks, validation_split, validation_data, shuffle, class_weight, sample_weight, initial_epoch, **kwargs)\u001b[0m\n\u001b[1;32m   1428\u001b[0m                               \u001b[0mval_f\u001b[0m\u001b[0;34m=\u001b[0m\u001b[0mval_f\u001b[0m\u001b[0;34m,\u001b[0m \u001b[0mval_ins\u001b[0m\u001b[0;34m=\u001b[0m\u001b[0mval_ins\u001b[0m\u001b[0;34m,\u001b[0m \u001b[0mshuffle\u001b[0m\u001b[0;34m=\u001b[0m\u001b[0mshuffle\u001b[0m\u001b[0;34m,\u001b[0m\u001b[0;34m\u001b[0m\u001b[0m\n\u001b[1;32m   1429\u001b[0m                               \u001b[0mcallback_metrics\u001b[0m\u001b[0;34m=\u001b[0m\u001b[0mcallback_metrics\u001b[0m\u001b[0;34m,\u001b[0m\u001b[0;34m\u001b[0m\u001b[0m\n\u001b[0;32m-> 1430\u001b[0;31m                               initial_epoch=initial_epoch)\n\u001b[0m\u001b[1;32m   1431\u001b[0m \u001b[0;34m\u001b[0m\u001b[0m\n\u001b[1;32m   1432\u001b[0m     \u001b[0;32mdef\u001b[0m \u001b[0mevaluate\u001b[0m\u001b[0;34m(\u001b[0m\u001b[0mself\u001b[0m\u001b[0;34m,\u001b[0m \u001b[0mx\u001b[0m\u001b[0;34m,\u001b[0m \u001b[0my\u001b[0m\u001b[0;34m,\u001b[0m \u001b[0mbatch_size\u001b[0m\u001b[0;34m=\u001b[0m\u001b[0;36m32\u001b[0m\u001b[0;34m,\u001b[0m \u001b[0mverbose\u001b[0m\u001b[0;34m=\u001b[0m\u001b[0;36m1\u001b[0m\u001b[0;34m,\u001b[0m \u001b[0msample_weight\u001b[0m\u001b[0;34m=\u001b[0m\u001b[0mNone\u001b[0m\u001b[0;34m)\u001b[0m\u001b[0;34m:\u001b[0m\u001b[0;34m\u001b[0m\u001b[0m\n",
      "\u001b[0;32m/home/ubuntu/anaconda2/envs/transcriber/lib/python2.7/site-packages/keras/engine/training.pyc\u001b[0m in \u001b[0;36m_fit_loop\u001b[0;34m(self, f, ins, out_labels, batch_size, epochs, verbose, callbacks, val_f, val_ins, shuffle, callback_metrics, initial_epoch)\u001b[0m\n\u001b[1;32m   1077\u001b[0m                 \u001b[0mbatch_logs\u001b[0m\u001b[0;34m[\u001b[0m\u001b[0;34m'size'\u001b[0m\u001b[0;34m]\u001b[0m \u001b[0;34m=\u001b[0m \u001b[0mlen\u001b[0m\u001b[0;34m(\u001b[0m\u001b[0mbatch_ids\u001b[0m\u001b[0;34m)\u001b[0m\u001b[0;34m\u001b[0m\u001b[0m\n\u001b[1;32m   1078\u001b[0m                 \u001b[0mcallbacks\u001b[0m\u001b[0;34m.\u001b[0m\u001b[0mon_batch_begin\u001b[0m\u001b[0;34m(\u001b[0m\u001b[0mbatch_index\u001b[0m\u001b[0;34m,\u001b[0m \u001b[0mbatch_logs\u001b[0m\u001b[0;34m)\u001b[0m\u001b[0;34m\u001b[0m\u001b[0m\n\u001b[0;32m-> 1079\u001b[0;31m                 \u001b[0mouts\u001b[0m \u001b[0;34m=\u001b[0m \u001b[0mf\u001b[0m\u001b[0;34m(\u001b[0m\u001b[0mins_batch\u001b[0m\u001b[0;34m)\u001b[0m\u001b[0;34m\u001b[0m\u001b[0m\n\u001b[0m\u001b[1;32m   1080\u001b[0m                 \u001b[0;32mif\u001b[0m \u001b[0;32mnot\u001b[0m \u001b[0misinstance\u001b[0m\u001b[0;34m(\u001b[0m\u001b[0mouts\u001b[0m\u001b[0;34m,\u001b[0m \u001b[0mlist\u001b[0m\u001b[0;34m)\u001b[0m\u001b[0;34m:\u001b[0m\u001b[0;34m\u001b[0m\u001b[0m\n\u001b[1;32m   1081\u001b[0m                     \u001b[0mouts\u001b[0m \u001b[0;34m=\u001b[0m \u001b[0;34m[\u001b[0m\u001b[0mouts\u001b[0m\u001b[0;34m]\u001b[0m\u001b[0;34m\u001b[0m\u001b[0m\n",
      "\u001b[0;32m/home/ubuntu/anaconda2/envs/transcriber/lib/python2.7/site-packages/keras/backend/tensorflow_backend.pyc\u001b[0m in \u001b[0;36m__call__\u001b[0;34m(self, inputs)\u001b[0m\n\u001b[1;32m   2266\u001b[0m         updated = session.run(self.outputs + [self.updates_op],\n\u001b[1;32m   2267\u001b[0m                               \u001b[0mfeed_dict\u001b[0m\u001b[0;34m=\u001b[0m\u001b[0mfeed_dict\u001b[0m\u001b[0;34m,\u001b[0m\u001b[0;34m\u001b[0m\u001b[0m\n\u001b[0;32m-> 2268\u001b[0;31m                               **self.session_kwargs)\n\u001b[0m\u001b[1;32m   2269\u001b[0m         \u001b[0;32mreturn\u001b[0m \u001b[0mupdated\u001b[0m\u001b[0;34m[\u001b[0m\u001b[0;34m:\u001b[0m\u001b[0mlen\u001b[0m\u001b[0;34m(\u001b[0m\u001b[0mself\u001b[0m\u001b[0;34m.\u001b[0m\u001b[0moutputs\u001b[0m\u001b[0;34m)\u001b[0m\u001b[0;34m]\u001b[0m\u001b[0;34m\u001b[0m\u001b[0m\n\u001b[1;32m   2270\u001b[0m \u001b[0;34m\u001b[0m\u001b[0m\n",
      "\u001b[0;32m/home/ubuntu/anaconda2/envs/transcriber/lib/python2.7/site-packages/tensorflow/python/client/session.pyc\u001b[0m in \u001b[0;36mrun\u001b[0;34m(self, fetches, feed_dict, options, run_metadata)\u001b[0m\n\u001b[1;32m    787\u001b[0m     \u001b[0;32mtry\u001b[0m\u001b[0;34m:\u001b[0m\u001b[0;34m\u001b[0m\u001b[0m\n\u001b[1;32m    788\u001b[0m       result = self._run(None, fetches, feed_dict, options_ptr,\n\u001b[0;32m--> 789\u001b[0;31m                          run_metadata_ptr)\n\u001b[0m\u001b[1;32m    790\u001b[0m       \u001b[0;32mif\u001b[0m \u001b[0mrun_metadata\u001b[0m\u001b[0;34m:\u001b[0m\u001b[0;34m\u001b[0m\u001b[0m\n\u001b[1;32m    791\u001b[0m         \u001b[0mproto_data\u001b[0m \u001b[0;34m=\u001b[0m \u001b[0mtf_session\u001b[0m\u001b[0;34m.\u001b[0m\u001b[0mTF_GetBuffer\u001b[0m\u001b[0;34m(\u001b[0m\u001b[0mrun_metadata_ptr\u001b[0m\u001b[0;34m)\u001b[0m\u001b[0;34m\u001b[0m\u001b[0m\n",
      "\u001b[0;32m/home/ubuntu/anaconda2/envs/transcriber/lib/python2.7/site-packages/tensorflow/python/client/session.pyc\u001b[0m in \u001b[0;36m_run\u001b[0;34m(self, handle, fetches, feed_dict, options, run_metadata)\u001b[0m\n\u001b[1;32m    995\u001b[0m     \u001b[0;32mif\u001b[0m \u001b[0mfinal_fetches\u001b[0m \u001b[0;32mor\u001b[0m \u001b[0mfinal_targets\u001b[0m\u001b[0;34m:\u001b[0m\u001b[0;34m\u001b[0m\u001b[0m\n\u001b[1;32m    996\u001b[0m       results = self._do_run(handle, final_targets, final_fetches,\n\u001b[0;32m--> 997\u001b[0;31m                              feed_dict_string, options, run_metadata)\n\u001b[0m\u001b[1;32m    998\u001b[0m     \u001b[0;32melse\u001b[0m\u001b[0;34m:\u001b[0m\u001b[0;34m\u001b[0m\u001b[0m\n\u001b[1;32m    999\u001b[0m       \u001b[0mresults\u001b[0m \u001b[0;34m=\u001b[0m \u001b[0;34m[\u001b[0m\u001b[0;34m]\u001b[0m\u001b[0;34m\u001b[0m\u001b[0m\n",
      "\u001b[0;32m/home/ubuntu/anaconda2/envs/transcriber/lib/python2.7/site-packages/tensorflow/python/client/session.pyc\u001b[0m in \u001b[0;36m_do_run\u001b[0;34m(self, handle, target_list, fetch_list, feed_dict, options, run_metadata)\u001b[0m\n\u001b[1;32m   1130\u001b[0m     \u001b[0;32mif\u001b[0m \u001b[0mhandle\u001b[0m \u001b[0;32mis\u001b[0m \u001b[0mNone\u001b[0m\u001b[0;34m:\u001b[0m\u001b[0;34m\u001b[0m\u001b[0m\n\u001b[1;32m   1131\u001b[0m       return self._do_call(_run_fn, self._session, feed_dict, fetch_list,\n\u001b[0;32m-> 1132\u001b[0;31m                            target_list, options, run_metadata)\n\u001b[0m\u001b[1;32m   1133\u001b[0m     \u001b[0;32melse\u001b[0m\u001b[0;34m:\u001b[0m\u001b[0;34m\u001b[0m\u001b[0m\n\u001b[1;32m   1134\u001b[0m       return self._do_call(_prun_fn, self._session, handle, feed_dict,\n",
      "\u001b[0;32m/home/ubuntu/anaconda2/envs/transcriber/lib/python2.7/site-packages/tensorflow/python/client/session.pyc\u001b[0m in \u001b[0;36m_do_call\u001b[0;34m(self, fn, *args)\u001b[0m\n\u001b[1;32m   1137\u001b[0m   \u001b[0;32mdef\u001b[0m \u001b[0m_do_call\u001b[0m\u001b[0;34m(\u001b[0m\u001b[0mself\u001b[0m\u001b[0;34m,\u001b[0m \u001b[0mfn\u001b[0m\u001b[0;34m,\u001b[0m \u001b[0;34m*\u001b[0m\u001b[0margs\u001b[0m\u001b[0;34m)\u001b[0m\u001b[0;34m:\u001b[0m\u001b[0;34m\u001b[0m\u001b[0m\n\u001b[1;32m   1138\u001b[0m     \u001b[0;32mtry\u001b[0m\u001b[0;34m:\u001b[0m\u001b[0;34m\u001b[0m\u001b[0m\n\u001b[0;32m-> 1139\u001b[0;31m       \u001b[0;32mreturn\u001b[0m \u001b[0mfn\u001b[0m\u001b[0;34m(\u001b[0m\u001b[0;34m*\u001b[0m\u001b[0margs\u001b[0m\u001b[0;34m)\u001b[0m\u001b[0;34m\u001b[0m\u001b[0m\n\u001b[0m\u001b[1;32m   1140\u001b[0m     \u001b[0;32mexcept\u001b[0m \u001b[0merrors\u001b[0m\u001b[0;34m.\u001b[0m\u001b[0mOpError\u001b[0m \u001b[0;32mas\u001b[0m \u001b[0me\u001b[0m\u001b[0;34m:\u001b[0m\u001b[0;34m\u001b[0m\u001b[0m\n\u001b[1;32m   1141\u001b[0m       \u001b[0mmessage\u001b[0m \u001b[0;34m=\u001b[0m \u001b[0mcompat\u001b[0m\u001b[0;34m.\u001b[0m\u001b[0mas_text\u001b[0m\u001b[0;34m(\u001b[0m\u001b[0me\u001b[0m\u001b[0;34m.\u001b[0m\u001b[0mmessage\u001b[0m\u001b[0;34m)\u001b[0m\u001b[0;34m\u001b[0m\u001b[0m\n",
      "\u001b[0;32m/home/ubuntu/anaconda2/envs/transcriber/lib/python2.7/site-packages/tensorflow/python/client/session.pyc\u001b[0m in \u001b[0;36m_run_fn\u001b[0;34m(session, feed_dict, fetch_list, target_list, options, run_metadata)\u001b[0m\n\u001b[1;32m   1119\u001b[0m         return tf_session.TF_Run(session, options,\n\u001b[1;32m   1120\u001b[0m                                  \u001b[0mfeed_dict\u001b[0m\u001b[0;34m,\u001b[0m \u001b[0mfetch_list\u001b[0m\u001b[0;34m,\u001b[0m \u001b[0mtarget_list\u001b[0m\u001b[0;34m,\u001b[0m\u001b[0;34m\u001b[0m\u001b[0m\n\u001b[0;32m-> 1121\u001b[0;31m                                  status, run_metadata)\n\u001b[0m\u001b[1;32m   1122\u001b[0m \u001b[0;34m\u001b[0m\u001b[0m\n\u001b[1;32m   1123\u001b[0m     \u001b[0;32mdef\u001b[0m \u001b[0m_prun_fn\u001b[0m\u001b[0;34m(\u001b[0m\u001b[0msession\u001b[0m\u001b[0;34m,\u001b[0m \u001b[0mhandle\u001b[0m\u001b[0;34m,\u001b[0m \u001b[0mfeed_dict\u001b[0m\u001b[0;34m,\u001b[0m \u001b[0mfetch_list\u001b[0m\u001b[0;34m)\u001b[0m\u001b[0;34m:\u001b[0m\u001b[0;34m\u001b[0m\u001b[0m\n",
      "\u001b[0;31mKeyboardInterrupt\u001b[0m: "
     ]
    }
   ],
   "source": [
    "# callback = keras.function([log_mfes], [])\n",
    "model.fit(inputs, outputs, epochs=200, validation_split = 0.2, batch_size = 32, verbose = 1)"
   ]
  },
  {
   "cell_type": "code",
   "execution_count": 75,
   "metadata": {},
   "outputs": [
    {
     "ename": "ImportError",
     "evalue": "`save_model` requires h5py.",
     "output_type": "error",
     "traceback": [
      "\u001b[0;31m---------------------------------------------------------------------------\u001b[0m",
      "\u001b[0;31mImportError\u001b[0m                               Traceback (most recent call last)",
      "\u001b[0;32m<ipython-input-75-05d9913d5ed5>\u001b[0m in \u001b[0;36m<module>\u001b[0;34m()\u001b[0m\n\u001b[1;32m      1\u001b[0m \u001b[0;32mimport\u001b[0m \u001b[0mkeras\u001b[0m\u001b[0;34m\u001b[0m\u001b[0m\n\u001b[1;32m      2\u001b[0m \u001b[0;32mimport\u001b[0m \u001b[0mh5py\u001b[0m\u001b[0;34m\u001b[0m\u001b[0m\n\u001b[0;32m----> 3\u001b[0;31m \u001b[0mmodel\u001b[0m\u001b[0;34m.\u001b[0m\u001b[0msave\u001b[0m\u001b[0;34m(\u001b[0m\u001b[0;34m\"saved_models/first_aws_model.h3.f32.k3.L320.1518\"\u001b[0m\u001b[0;34m)\u001b[0m\u001b[0;34m\u001b[0m\u001b[0m\n\u001b[0m",
      "\u001b[0;32m/home/ubuntu/anaconda2/envs/transcriber/lib/python2.7/site-packages/keras/engine/topology.pyc\u001b[0m in \u001b[0;36msave\u001b[0;34m(self, filepath, overwrite, include_optimizer)\u001b[0m\n\u001b[1;32m   2504\u001b[0m         \"\"\"\n\u001b[1;32m   2505\u001b[0m         \u001b[0;32mfrom\u001b[0m \u001b[0;34m.\u001b[0m\u001b[0;34m.\u001b[0m\u001b[0mmodels\u001b[0m \u001b[0;32mimport\u001b[0m \u001b[0msave_model\u001b[0m\u001b[0;34m\u001b[0m\u001b[0m\n\u001b[0;32m-> 2506\u001b[0;31m         \u001b[0msave_model\u001b[0m\u001b[0;34m(\u001b[0m\u001b[0mself\u001b[0m\u001b[0;34m,\u001b[0m \u001b[0mfilepath\u001b[0m\u001b[0;34m,\u001b[0m \u001b[0moverwrite\u001b[0m\u001b[0;34m,\u001b[0m \u001b[0minclude_optimizer\u001b[0m\u001b[0;34m)\u001b[0m\u001b[0;34m\u001b[0m\u001b[0m\n\u001b[0m\u001b[1;32m   2507\u001b[0m \u001b[0;34m\u001b[0m\u001b[0m\n\u001b[1;32m   2508\u001b[0m     \u001b[0;32mdef\u001b[0m \u001b[0msave_weights\u001b[0m\u001b[0;34m(\u001b[0m\u001b[0mself\u001b[0m\u001b[0;34m,\u001b[0m \u001b[0mfilepath\u001b[0m\u001b[0;34m,\u001b[0m \u001b[0moverwrite\u001b[0m\u001b[0;34m=\u001b[0m\u001b[0mTrue\u001b[0m\u001b[0;34m)\u001b[0m\u001b[0;34m:\u001b[0m\u001b[0;34m\u001b[0m\u001b[0m\n",
      "\u001b[0;32m/home/ubuntu/anaconda2/envs/transcriber/lib/python2.7/site-packages/keras/models.pyc\u001b[0m in \u001b[0;36msave_model\u001b[0;34m(model, filepath, overwrite, include_optimizer)\u001b[0m\n\u001b[1;32m     53\u001b[0m \u001b[0;34m\u001b[0m\u001b[0m\n\u001b[1;32m     54\u001b[0m     \u001b[0;32mif\u001b[0m \u001b[0mh5py\u001b[0m \u001b[0;32mis\u001b[0m \u001b[0mNone\u001b[0m\u001b[0;34m:\u001b[0m\u001b[0;34m\u001b[0m\u001b[0m\n\u001b[0;32m---> 55\u001b[0;31m         \u001b[0;32mraise\u001b[0m \u001b[0mImportError\u001b[0m\u001b[0;34m(\u001b[0m\u001b[0;34m'`save_model` requires h5py.'\u001b[0m\u001b[0;34m)\u001b[0m\u001b[0;34m\u001b[0m\u001b[0m\n\u001b[0m\u001b[1;32m     56\u001b[0m \u001b[0;34m\u001b[0m\u001b[0m\n\u001b[1;32m     57\u001b[0m     \u001b[0;32mdef\u001b[0m \u001b[0mget_json_type\u001b[0m\u001b[0;34m(\u001b[0m\u001b[0mobj\u001b[0m\u001b[0;34m)\u001b[0m\u001b[0;34m:\u001b[0m\u001b[0;34m\u001b[0m\u001b[0m\n",
      "\u001b[0;31mImportError\u001b[0m: `save_model` requires h5py."
     ]
    }
   ],
   "source": [
    "import keras\n",
    "import h5py\n",
    "model.save(\"saved_models/first_aws_model.h3.f32.k3.L320.1518\")"
   ]
  },
  {
   "cell_type": "code",
   "execution_count": 37,
   "metadata": {
    "collapsed": true
   },
   "outputs": [],
   "source": [
    "ctc_costs, probs = model.predict({'log_mfes': X[:100,:,:40],\n",
    "          'the_labels': y[:100],\n",
    "          'input_length': np.asarray(input_lengths[:100]),\n",
    "          'label_length': np.asarray(label_lengths[:100])})"
   ]
  },
  {
   "cell_type": "code",
   "execution_count": 69,
   "metadata": {},
   "outputs": [
    {
     "name": "stdout",
     "output_type": "stream",
     "text": [
      "3\n"
     ]
    },
    {
     "data": {
      "image/png": "[encoded data removed]",
      "text/plain": [
       "<matplotlib.figure.Figure at 0x7f644d3abc90>"
      ]
     },
     "metadata": {},
     "output_type": "display_data"
    }
   ],
   "source": [
    "for (i, length) in enumerate(input_lengths):\n",
    "    if length <500:\n",
    "        print i\n",
    "        break\n",
    "\n",
    "checking_idx = 3\n",
    "plt.figure(figsize=(20,3))\n",
    "plt.plot(probs[checking_idx]);\n"
   ]
  },
  {
   "cell_type": "code",
   "execution_count": 70,
   "metadata": {
    "scrolled": true
   },
   "outputs": [
    {
     "data": {
      "image/png": "[encoded data removed]",
      "text/plain": [
       "<matplotlib.figure.Figure at 0x7f6446b8d050>"
      ]
     },
     "metadata": {},
     "output_type": "display_data"
    }
   ],
   "source": [
    "from matplotlib import cm\n",
    "\n",
    "fig, ax = plt.subplots(figsize=(20,8))\n",
    "mfcc_data= np.swapaxes(X[checking_idx][:,:41], 0 ,1)\n",
    "cax = ax.imshow(mfcc_data, interpolation='nearest' , origin='lower')\n",
    "# plt.figure(figsize=(10,30))\n",
    "# ax.set_title('MFCC')\n",
    "\n",
    "# plt.show()"
   ]
  },
  {
   "cell_type": "code",
   "execution_count": 71,
   "metadata": {},
   "outputs": [
    {
     "data": {
      "text/plain": [
       "'476-133471-0010\\n'"
      ]
     },
     "execution_count": 71,
     "metadata": {},
     "output_type": "execute_result"
    }
   ],
   "source": [
    "checking_id = short_ids[checking_idx]\n",
    "checking_id"
   ]
  },
  {
   "cell_type": "code",
   "execution_count": 72,
   "metadata": {},
   "outputs": [
    {
     "name": "stdout",
     "output_type": "stream",
     "text": [
      "[u'DH', '-', ' ', u'AO', u'R', ' ', u'L', ' ', u'AY', ' ', u'F', u'AY', ' ', u'G', ' ', u'Y', u'UW', ' ', u'B', u'EH', u'N', u'OW', u'IY', ' ', u'IY', ' ']\n"
     ]
    }
   ],
   "source": [
    "print [k for k in interpret_probs(probs[checking_idx], ignore_blanks=False) if True ]"
   ]
  },
  {
   "cell_type": "code",
   "execution_count": 73,
   "metadata": {},
   "outputs": [
    {
     "name": "stdout",
     "output_type": "stream",
     "text": [
      "[u'K', u'UW', u'L', ' ', u'IH', u'N', ' ', u'S', u'AH', u'M', u'ER', ' ', u'W', u'AO', u'R', u'M', ' ', u'IH', u'N', ' ', u'W', u'IH', u'N', u'T', u'ER', ' ', u'M', u'AA', u'D', u'ER', u'N', ' ', u'F', u'AY', u'ER', ' ', u'G', u'R', u'EY', u'T', ' ', u'Y', u'UW', ' ', u'N', u'OW', u'T', u'AH', u'S', ' ']\n"
     ]
    }
   ],
   "source": [
    "print short_phonemes[checking_idx]"
   ]
  },
  {
   "cell_type": "code",
   "execution_count": 64,
   "metadata": {},
   "outputs": [
    {
     "data": {
      "text/plain": [
       "array([36,  2,  3,  0,  0,  0,  0,  0,  0,  0,  0,  0,  3,  0,  0,  0,  3,\n",
       "       36,  0,  0,  0,  0, 31,  0, 36,  0,  0,  0,  0,  0,  0,  0,  6,  2,\n",
       "        2, 24, 20, 20, 13,  6,  0,  6, 23,  0,  0, 16,  2, 23,  9,  0, 10,\n",
       "       10,  3, 31,  3,  0,  0, 14,  2, 25, 25, 23, 23,  0,  0,  3, 23,  3,\n",
       "       22,  0,  7, 28,  6,  6, 23,  0,  9, 20,  3,  0,  0,  3,  2, 31,  9,\n",
       "       20,  3,  0,  0,  6, 11, 23,  0,  0, 31,  0,  3,  0,  0,  0,  0,  0,\n",
       "        0,  0, 36,  0,  0,  0,  0, 36,  0,  0,  0,  0,  0,  0,  0,  0,  0,\n",
       "        0,  0,  0,  0,  0,  0,  0,  0,  0,  0,  0,  0,  0,  0,  0,  0,  0,\n",
       "        0,  0,  0,  0,  0,  0,  0,  0,  0,  0,  0,  0,  0,  2])"
      ]
     },
     "execution_count": 64,
     "metadata": {},
     "output_type": "execute_result"
    }
   ],
   "source": [
    "first = probs[checking_idx]\n",
    "first.shape\n",
    "idxs = np.argmax(first[:,:-1], axis=1)\n",
    "idxs"
   ]
  },
  {
   "cell_type": "code",
   "execution_count": 168,
   "metadata": {},
   "outputs": [
    {
     "data": {
      "text/plain": [
       "array([32,  2, 24, 20,  0, 37, 34,  0, 15, 33,  9,  7,  6,  0, -1, -1, -1,\n",
       "       -1, -1, -1], dtype=int32)"
      ]
     },
     "execution_count": 168,
     "metadata": {},
     "output_type": "execute_result"
    }
   ],
   "source": [
    "y[0]"
   ]
  },
  {
   "cell_type": "code",
   "execution_count": 192,
   "metadata": {},
   "outputs": [
    {
     "ename": "NameError",
     "evalue": "name 'interpret_probs' is not defined",
     "output_type": "error",
     "traceback": [
      "\u001b[0;31m---------------------------------------------------------------------------\u001b[0m",
      "\u001b[0;31mNameError\u001b[0m                                 Traceback (most recent call last)",
      "\u001b[0;32m<ipython-input-192-dddbdb7054e8>\u001b[0m in \u001b[0;36m<module>\u001b[0;34m()\u001b[0m\n\u001b[0;32m----> 1\u001b[0;31m \u001b[0minterpret_probs\u001b[0m\u001b[0;34m(\u001b[0m\u001b[0mprobs\u001b[0m\u001b[0;34m[\u001b[0m\u001b[0mchecking_idx\u001b[0m\u001b[0;34m]\u001b[0m\u001b[0;34m)\u001b[0m\u001b[0;34m\u001b[0m\u001b[0m\n\u001b[0m",
      "\u001b[0;31mNameError\u001b[0m: name 'interpret_probs' is not defined"
     ]
    }
   ],
   "source": [
    "interpret_probs(probs[checking_idx])"
   ]
  },
  {
   "cell_type": "code",
   "execution_count": null,
   "metadata": {
    "collapsed": true
   },
   "outputs": [],
   "source": []
  },
  {
   "cell_type": "code",
   "execution_count": null,
   "metadata": {
    "collapsed": true
   },
   "outputs": [],
   "source": []
  }
 ],
 "metadata": {
  "kernelspec": {
   "display_name": "Python 2",
   "language": "python",
   "name": "python2"
  },
  "language_info": {
   "codemirror_mode": {
    "name": "ipython",
    "version": 2
   },
   "file_extension": ".py",
   "mimetype": "text/x-python",
   "name": "python",
   "nbconvert_exporter": "python",
   "pygments_lexer": "ipython2",
   "version": "2.7.13"
  }
 },
 "nbformat": 4,
 "nbformat_minor": 2
}
