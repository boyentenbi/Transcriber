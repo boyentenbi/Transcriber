{
 "cells": [
  {
   "cell_type": "code",
   "execution_count": null,
   "metadata": {
    "collapsed": true
   },
   "outputs": [],
   "source": [
    "def beam_search_phon(acoustic_score, language_score, alpha, beta, frame_level_probs, n_paths):\n",
    "    # Initialize the candidate-score dict with the empty string\n",
    "    candidates = {\"\":0.}\n",
    "    # Iterate over input timesteps and possibly grow the tree at each\n",
    "    for t in range(T):\n",
    "        \n",
    "        # Retrieve the best paths so far\n",
    "        top_candidates = dict(sorted(candidates.items(), key= lambda x: x[1])[:n_paths])\n",
    "        \n",
    "        # Check each path for whether growing it will improve its score\n",
    "        for s,score in top_candidates.items():\n",
    "            \n",
    "            # We don't want to iterate over every word because there are a ton of them. \n",
    "            # It's probably better to let the phones dictate which ones we search\n",
    "            # So we iterate through phoneme extensions and score them \n",
    "            # Check every extension allowed by the lm\n",
    "            for word in language:\n",
    "                s_new = s+\" \"+word\n",
    "                if s_new in candidates.keys() break\n",
    "                    \n",
    "                new_phonemes = code_phonemes(s_new)\n",
    "                new_score = acoustic_score(frame_level_probs, new_phonemes) \\\n",
    "                            + alpha*language_score(s_new) \\\n",
    "                            + beta*len(s_new.split(\" \"))\n",
    "                if new_score >= score:\n",
    "                    candidates[s_new] = new_score"
   ]
  }
 ],
 "metadata": {
  "kernelspec": {
   "display_name": "Python 2",
   "language": "python",
   "name": "python2"
  },
  "language_info": {
   "codemirror_mode": {
    "name": "ipython",
    "version": 2
   },
   "file_extension": ".py",
   "mimetype": "text/x-python",
   "name": "python",
   "nbconvert_exporter": "python",
   "pygments_lexer": "ipython2",
   "version": "2.7.13"
  }
 },
 "nbformat": 4,
 "nbformat_minor": 2
}
