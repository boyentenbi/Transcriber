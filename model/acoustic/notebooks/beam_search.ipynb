{
 "cells": [
  {
   "cell_type": "code",
   "execution_count": null,
   "metadata": {
    "collapsed": true
   },
   "outputs": [],
   "source": [
    "\n",
    "n_paths = 5\n",
    "alpha = 1\n",
    "beta = 0.1\n",
    "\n",
    "chars = \"abcdefghijklmnopqrstuvwxyz -\"\n",
    "\n",
    "alphabet = dict(zip(chars, range(28) ))\n",
    "rev_alphabet = dict(zip(range(28), (chars)))\n",
    "T = char_probs.shape[0]\n",
    "\n",
    "\n",
    "\n",
    "def stimes(factors):\n",
    "    return np.exp(np.sum(np.log(factors)))\n",
    "   \n",
    "def sexp(base, exp):\n",
    "    return np.exp(np.log(base) * exp)\n",
    "    \n",
    "def top_keys(d, k, beta):\n",
    "    arr = np.asarray(d.values())\n",
    "    string_lens = np.asarray([len(string) for string in d.keys()])\n",
    "    len_multipliers = string_lens ** beta\n",
    "    top_k_idxs = argsort(arr * string_len)[-k:] \n",
    "    top_k_keys = [d.keys()[i] for i in top_k_idxs]\n",
    "    return top_k_keys\n",
    "\n",
    "def beam_search():\n",
    "    \n",
    "    Z = [[] for t in range(T)]\n",
    "    p_s_b = [{} for t in range(T)]\n",
    "    p_s_nb = [{} for t in range(T)]\n",
    "    p_s = [{} for t in range(T)]\n",
    "\n",
    "    # Just an initialization that works...\n",
    "    p_s_nb[0] = {\"\":1.}\n",
    "    p_s_b[0] = {\"\": 0.}\n",
    "\n",
    "    p_s[0] = {\"\":1.}\n",
    "    Z[0] = [\"\"]\n",
    "    \n",
    "    # Iterate over input timesteps\n",
    "    for t in range(1, T+1):\n",
    "\n",
    "        # Consider all of the strings which were candidates given data up to time t-1\n",
    "        # and compute the probabilities of 'some' new strings given data up to time t\n",
    "        # 'some' = the current strings and 1-character extensions of them\n",
    "        for string in Z[t-1]:\n",
    "\n",
    "            # Probs for existing candidates when the final model out is blank, and when it is not blank\n",
    "            p_s_b[t][string] = stimes( p_s[t-1][string] , char_probs[t, alphabet[\"-\"]])\n",
    "            p_s_nb[t][string] = 0. if string==\"\" else stimes(p_s_nb[t-1][string], char_probs[t, alphabet[string[-1]]]) # plus some other stuff???\n",
    "\n",
    "            # Now consider extensions of one character\n",
    "            for c in chars[:-1]:\n",
    "                # When extension is not the same as final character\n",
    "                if c != string[-1]:\n",
    "                    p_s_nb[t][string+c] = stimes([char_probs[t, alphabet[c]] , p_s[t-1][string] , sexp(lm_p(c, string), alpha)])\n",
    "                # When extension is the same as final character\n",
    "                else:\n",
    "                    p_s_nb[t][string+c] = stimes([char_probs[t, alphabet[c]], p_s_b[t-1][string] , sexp(lm_p(c, string), alpha)]) \n",
    "\n",
    "            # Set the probability of a string given input data up to time t as the sum of the marginals over t'th model out\n",
    "            p_s[t] = {s: p_s_b[t][s] + p_s_nb[t][s] for s in p_s_b[t].keys()}\n",
    "            # Take the top k strings \n",
    "            Z[t] = top_keys(p_s[t], n_paths, beta)\n",
    "    return Z[T]"
   ]
  },
  {
   "cell_type": "code",
   "execution_count": null,
   "metadata": {
    "collapsed": true
   },
   "outputs": [],
   "source": []
  }
 ],
 "metadata": {
  "kernelspec": {
   "display_name": "Python 2",
   "language": "python",
   "name": "python2"
  },
  "language_info": {
   "codemirror_mode": {
    "name": "ipython",
    "version": 2
   },
   "file_extension": ".py",
   "mimetype": "text/x-python",
   "name": "python",
   "nbconvert_exporter": "python",
   "pygments_lexer": "ipython2",
   "version": "2.7.13"
  }
 },
 "nbformat": 4,
 "nbformat_minor": 2
}
