{
 "cells": [
  {
   "cell_type": "code",
   "execution_count": 6,
   "metadata": {
    "collapsed": true
   },
   "outputs": [],
   "source": [
    "import csv\n",
    "import numpy as np\n",
    "csv_file = open(\"asset/data/preprocess/meta/train.csv\")\n",
    "\n",
    "reader = csv.reader(csv_file)\n",
    "read = [x for x in reader]"
   ]
  },
  {
   "cell_type": "code",
   "execution_count": 3,
   "metadata": {
    "collapsed": true
   },
   "outputs": [],
   "source": [
    "all_phon_indices = []\n",
    "\n",
    "for label in read:\n",
    "    indices = [int(x) for x in label[1:]]\n",
    "    all_phon_indices.extend(indices)"
   ]
  },
  {
   "cell_type": "code",
   "execution_count": 16,
   "metadata": {
    "collapsed": true
   },
   "outputs": [],
   "source": [
    "counts = np.bincount(all_phon_indices)\n",
    "total = np.sum(counts)\n",
    "counts = list(counts)\n",
    "counts.append(total)\n",
    "measures = np.asarray(counts) / (2.*total)"
   ]
  },
  {
   "cell_type": "code",
   "execution_count": 18,
   "metadata": {
    "collapsed": false
   },
   "outputs": [
    {
     "data": {
      "text/plain": [
       "array([  9.35345344e-03,   1.34043788e-02,   5.18198849e-02,\n",
       "         7.52503082e-03,   3.40318736e-03,   9.31901960e-03,\n",
       "         8.93271720e-03,   2.75141916e-03,   2.27835338e-02,\n",
       "         1.67440367e-02,   1.45401297e-02,   1.18776588e-02,\n",
       "         7.86261677e-03,   8.78098206e-03,   4.38243054e-03,\n",
       "         8.45760802e-03,   3.05907524e-02,   1.74007190e-02,\n",
       "         2.51034694e-03,   1.47463439e-02,   1.94155227e-02,\n",
       "         1.40886010e-02,   3.56325167e-02,   5.45150574e-03,\n",
       "         6.66178088e-03,   4.57786201e-04,   9.61520717e-03,\n",
       "         2.11737343e-02,   2.40190864e-02,   3.78135857e-03,\n",
       "         3.66917284e-02,   2.58815893e-03,   2.33637475e-03,\n",
       "         1.01412954e-02,   1.00652511e-02,   1.20708630e-02,\n",
       "         4.07203106e-03,   1.42941435e-02,   2.56804307e-04,\n",
       "         5.00000000e-01])"
      ]
     },
     "execution_count": 18,
     "metadata": {},
     "output_type": "execute_result"
    }
   ],
   "source": [
    "measures"
   ]
  },
  {
   "cell_type": "code",
   "execution_count": 19,
   "metadata": {
    "collapsed": true
   },
   "outputs": [],
   "source": [
    "np.save(\"../decoder/phon_measures\", measures)"
   ]
  },
  {
   "cell_type": "code",
   "execution_count": null,
   "metadata": {
    "collapsed": true
   },
   "outputs": [],
   "source": []
  }
 ],
 "metadata": {
  "anaconda-cloud": {},
  "kernelspec": {
   "display_name": "Python [default]",
   "language": "python",
   "name": "python2"
  },
  "language_info": {
   "codemirror_mode": {
    "name": "ipython",
    "version": 2
   },
   "file_extension": ".py",
   "mimetype": "text/x-python",
   "name": "python",
   "nbconvert_exporter": "python",
   "pygments_lexer": "ipython2",
   "version": "2.7.12"
  }
 },
 "nbformat": 4,
 "nbformat_minor": 2
}
